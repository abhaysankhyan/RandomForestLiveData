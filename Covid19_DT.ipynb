{
 "cells": [
  {
   "cell_type": "markdown",
   "id": "abf53bb1",
   "metadata": {},
   "source": [
    "### Business Problem : Predicit the deaths in Covid 19 cases based on data provided.\n",
    "#### Death: Binary     Model: Classification"
   ]
  },
  {
   "cell_type": "code",
   "execution_count": 138,
   "id": "5bd64a0c",
   "metadata": {},
   "outputs": [],
   "source": [
    "# First we will import the all the necessary libraries.\n",
    "\n",
    "import os\n",
    "import pandas as pd\n",
    "import numpy as np\n",
    "import matplotlib.pyplot as plt\n",
    "import seaborn as sns\n",
    "\n",
    "from sklearn import metrics\n",
    "from sklearn.model_selection import train_test_split, GridSearchCV, RandomizedSearchCV\n",
    "from sklearn.linear_model import LogisticRegression\n",
    "from sklearn.tree import DecisionTreeClassifier\n",
    "from sklearn.ensemble import RandomForestClassifier"
   ]
  },
  {
   "cell_type": "code",
   "execution_count": 2,
   "id": "bf6b85fe",
   "metadata": {},
   "outputs": [],
   "source": [
    "os.chdir(\"D:\\Imarticus\\ML\\Covid 19\")"
   ]
  },
  {
   "cell_type": "code",
   "execution_count": 3,
   "id": "d7f2cbb9",
   "metadata": {},
   "outputs": [
    {
     "data": {
      "text/plain": [
       "['Covid.csv', 'covid19_sample.csv', 'data_dictionary_covid_cases_public.xlsx']"
      ]
     },
     "execution_count": 3,
     "metadata": {},
     "output_type": "execute_result"
    }
   ],
   "source": [
    "os.listdir()"
   ]
  },
  {
   "cell_type": "code",
   "execution_count": 142,
   "id": "8710f1e5",
   "metadata": {},
   "outputs": [],
   "source": [
    "df=pd.read_csv(\"covid19_sample.csv\")"
   ]
  },
  {
   "cell_type": "code",
   "execution_count": 143,
   "id": "fbf214a4",
   "metadata": {},
   "outputs": [
    {
     "data": {
      "text/html": [
       "<div>\n",
       "<style scoped>\n",
       "    .dataframe tbody tr th:only-of-type {\n",
       "        vertical-align: middle;\n",
       "    }\n",
       "\n",
       "    .dataframe tbody tr th {\n",
       "        vertical-align: top;\n",
       "    }\n",
       "\n",
       "    .dataframe thead th {\n",
       "        text-align: right;\n",
       "    }\n",
       "</style>\n",
       "<table border=\"1\" class=\"dataframe\">\n",
       "  <thead>\n",
       "    <tr style=\"text-align: right;\">\n",
       "      <th></th>\n",
       "      <th>Unnamed: 0</th>\n",
       "      <th>cdc_report_dt</th>\n",
       "      <th>pos_spec_dt</th>\n",
       "      <th>onset_dt</th>\n",
       "      <th>current_status</th>\n",
       "      <th>sex</th>\n",
       "      <th>age_group</th>\n",
       "      <th>Race and ethnicity (combined)</th>\n",
       "      <th>hosp_yn</th>\n",
       "      <th>icu_yn</th>\n",
       "      <th>death_yn</th>\n",
       "      <th>medcond_yn</th>\n",
       "    </tr>\n",
       "  </thead>\n",
       "  <tbody>\n",
       "    <tr>\n",
       "      <th>0</th>\n",
       "      <td>3517780</td>\n",
       "      <td>2020/07/22</td>\n",
       "      <td>NaN</td>\n",
       "      <td>NaN</td>\n",
       "      <td>Laboratory-confirmed case</td>\n",
       "      <td>Female</td>\n",
       "      <td>70 - 79 Years</td>\n",
       "      <td>White, Non-Hispanic</td>\n",
       "      <td>Yes</td>\n",
       "      <td>Missing</td>\n",
       "      <td>Yes</td>\n",
       "      <td>Missing</td>\n",
       "    </tr>\n",
       "    <tr>\n",
       "      <th>1</th>\n",
       "      <td>3679793</td>\n",
       "      <td>2020/08/07</td>\n",
       "      <td>2020/08/04</td>\n",
       "      <td>NaN</td>\n",
       "      <td>Laboratory-confirmed case</td>\n",
       "      <td>Female</td>\n",
       "      <td>80+ Years</td>\n",
       "      <td>White, Non-Hispanic</td>\n",
       "      <td>Yes</td>\n",
       "      <td>Unknown</td>\n",
       "      <td>Yes</td>\n",
       "      <td>Missing</td>\n",
       "    </tr>\n",
       "    <tr>\n",
       "      <th>2</th>\n",
       "      <td>3331587</td>\n",
       "      <td>2020/03/31</td>\n",
       "      <td>NaN</td>\n",
       "      <td>NaN</td>\n",
       "      <td>Laboratory-confirmed case</td>\n",
       "      <td>Male</td>\n",
       "      <td>70 - 79 Years</td>\n",
       "      <td>White, Non-Hispanic</td>\n",
       "      <td>Yes</td>\n",
       "      <td>No</td>\n",
       "      <td>Yes</td>\n",
       "      <td>Yes</td>\n",
       "    </tr>\n",
       "    <tr>\n",
       "      <th>3</th>\n",
       "      <td>3680266</td>\n",
       "      <td>2020/08/11</td>\n",
       "      <td>2020/08/05</td>\n",
       "      <td>NaN</td>\n",
       "      <td>Laboratory-confirmed case</td>\n",
       "      <td>Female</td>\n",
       "      <td>80+ Years</td>\n",
       "      <td>Black, Non-Hispanic</td>\n",
       "      <td>Yes</td>\n",
       "      <td>Unknown</td>\n",
       "      <td>Yes</td>\n",
       "      <td>Yes</td>\n",
       "    </tr>\n",
       "    <tr>\n",
       "      <th>4</th>\n",
       "      <td>6264234</td>\n",
       "      <td>2020/04/18</td>\n",
       "      <td>NaN</td>\n",
       "      <td>NaN</td>\n",
       "      <td>Probable Case</td>\n",
       "      <td>Female</td>\n",
       "      <td>50 - 59 Years</td>\n",
       "      <td>Asian, Non-Hispanic</td>\n",
       "      <td>Unknown</td>\n",
       "      <td>Unknown</td>\n",
       "      <td>Yes</td>\n",
       "      <td>Unknown</td>\n",
       "    </tr>\n",
       "  </tbody>\n",
       "</table>\n",
       "</div>"
      ],
      "text/plain": [
       "   Unnamed: 0 cdc_report_dt pos_spec_dt onset_dt             current_status  \\\n",
       "0     3517780    2020/07/22         NaN      NaN  Laboratory-confirmed case   \n",
       "1     3679793    2020/08/07  2020/08/04      NaN  Laboratory-confirmed case   \n",
       "2     3331587    2020/03/31         NaN      NaN  Laboratory-confirmed case   \n",
       "3     3680266    2020/08/11  2020/08/05      NaN  Laboratory-confirmed case   \n",
       "4     6264234    2020/04/18         NaN      NaN              Probable Case   \n",
       "\n",
       "      sex      age_group Race and ethnicity (combined)  hosp_yn   icu_yn  \\\n",
       "0  Female  70 - 79 Years           White, Non-Hispanic      Yes  Missing   \n",
       "1  Female      80+ Years           White, Non-Hispanic      Yes  Unknown   \n",
       "2    Male  70 - 79 Years           White, Non-Hispanic      Yes       No   \n",
       "3  Female      80+ Years           Black, Non-Hispanic      Yes  Unknown   \n",
       "4  Female  50 - 59 Years           Asian, Non-Hispanic  Unknown  Unknown   \n",
       "\n",
       "  death_yn medcond_yn  \n",
       "0      Yes    Missing  \n",
       "1      Yes    Missing  \n",
       "2      Yes        Yes  \n",
       "3      Yes        Yes  \n",
       "4      Yes    Unknown  "
      ]
     },
     "execution_count": 143,
     "metadata": {},
     "output_type": "execute_result"
    }
   ],
   "source": [
    "df.head()"
   ]
  },
  {
   "cell_type": "code",
   "execution_count": 144,
   "id": "af3a0828",
   "metadata": {},
   "outputs": [
    {
     "data": {
      "text/plain": [
       "(184155, 12)"
      ]
     },
     "execution_count": 144,
     "metadata": {},
     "output_type": "execute_result"
    }
   ],
   "source": [
    "df.shape"
   ]
  },
  {
   "cell_type": "markdown",
   "id": "19afbbfb",
   "metadata": {},
   "source": [
    "* There are 184155 records/rows and 12 columns in the given data."
   ]
  },
  {
   "cell_type": "code",
   "execution_count": 145,
   "id": "3ea87817",
   "metadata": {},
   "outputs": [],
   "source": [
    "df.drop(columns=['Unnamed: 0'],inplace=True)"
   ]
  },
  {
   "cell_type": "code",
   "execution_count": 146,
   "id": "e46aa8f4",
   "metadata": {},
   "outputs": [
    {
     "name": "stdout",
     "output_type": "stream",
     "text": [
      "<class 'pandas.core.frame.DataFrame'>\n",
      "RangeIndex: 184155 entries, 0 to 184154\n",
      "Data columns (total 11 columns):\n",
      " #   Column                         Non-Null Count   Dtype \n",
      "---  ------                         --------------   ----- \n",
      " 0   cdc_report_dt                  184155 non-null  object\n",
      " 1   pos_spec_dt                    67144 non-null   object\n",
      " 2   onset_dt                       118445 non-null  object\n",
      " 3   current_status                 184155 non-null  object\n",
      " 4   sex                            184154 non-null  object\n",
      " 5   age_group                      184151 non-null  object\n",
      " 6   Race and ethnicity (combined)  184154 non-null  object\n",
      " 7   hosp_yn                        184155 non-null  object\n",
      " 8   icu_yn                         184155 non-null  object\n",
      " 9   death_yn                       184155 non-null  object\n",
      " 10  medcond_yn                     184155 non-null  object\n",
      "dtypes: object(11)\n",
      "memory usage: 15.5+ MB\n"
     ]
    }
   ],
   "source": [
    "df.info()"
   ]
  },
  {
   "cell_type": "markdown",
   "id": "18f8421e",
   "metadata": {},
   "source": [
    "* All the variables are objective.\n",
    "* There are 4 columns that have missing values."
   ]
  },
  {
   "cell_type": "markdown",
   "id": "3fd1aaf0",
   "metadata": {},
   "source": [
    "### EDA"
   ]
  },
  {
   "cell_type": "code",
   "execution_count": 147,
   "id": "a9785551",
   "metadata": {},
   "outputs": [
    {
     "data": {
      "text/html": [
       "<div>\n",
       "<style scoped>\n",
       "    .dataframe tbody tr th:only-of-type {\n",
       "        vertical-align: middle;\n",
       "    }\n",
       "\n",
       "    .dataframe tbody tr th {\n",
       "        vertical-align: top;\n",
       "    }\n",
       "\n",
       "    .dataframe thead th {\n",
       "        text-align: right;\n",
       "    }\n",
       "</style>\n",
       "<table border=\"1\" class=\"dataframe\">\n",
       "  <thead>\n",
       "    <tr style=\"text-align: right;\">\n",
       "      <th></th>\n",
       "      <th>count</th>\n",
       "      <th>unique</th>\n",
       "      <th>top</th>\n",
       "      <th>freq</th>\n",
       "    </tr>\n",
       "  </thead>\n",
       "  <tbody>\n",
       "    <tr>\n",
       "      <th>cdc_report_dt</th>\n",
       "      <td>184155</td>\n",
       "      <td>287</td>\n",
       "      <td>2020/06/10</td>\n",
       "      <td>8553</td>\n",
       "    </tr>\n",
       "    <tr>\n",
       "      <th>pos_spec_dt</th>\n",
       "      <td>67144</td>\n",
       "      <td>278</td>\n",
       "      <td>2020/11/09</td>\n",
       "      <td>834</td>\n",
       "    </tr>\n",
       "    <tr>\n",
       "      <th>onset_dt</th>\n",
       "      <td>118445</td>\n",
       "      <td>314</td>\n",
       "      <td>2020/11/03</td>\n",
       "      <td>813</td>\n",
       "    </tr>\n",
       "    <tr>\n",
       "      <th>current_status</th>\n",
       "      <td>184155</td>\n",
       "      <td>2</td>\n",
       "      <td>Laboratory-confirmed case</td>\n",
       "      <td>173359</td>\n",
       "    </tr>\n",
       "    <tr>\n",
       "      <th>sex</th>\n",
       "      <td>184154</td>\n",
       "      <td>5</td>\n",
       "      <td>Female</td>\n",
       "      <td>92108</td>\n",
       "    </tr>\n",
       "    <tr>\n",
       "      <th>age_group</th>\n",
       "      <td>184151</td>\n",
       "      <td>10</td>\n",
       "      <td>80+ Years</td>\n",
       "      <td>37917</td>\n",
       "    </tr>\n",
       "    <tr>\n",
       "      <th>Race and ethnicity (combined)</th>\n",
       "      <td>184154</td>\n",
       "      <td>9</td>\n",
       "      <td>White, Non-Hispanic</td>\n",
       "      <td>75938</td>\n",
       "    </tr>\n",
       "    <tr>\n",
       "      <th>hosp_yn</th>\n",
       "      <td>184155</td>\n",
       "      <td>4</td>\n",
       "      <td>No</td>\n",
       "      <td>91217</td>\n",
       "    </tr>\n",
       "    <tr>\n",
       "      <th>icu_yn</th>\n",
       "      <td>184155</td>\n",
       "      <td>4</td>\n",
       "      <td>Missing</td>\n",
       "      <td>103731</td>\n",
       "    </tr>\n",
       "    <tr>\n",
       "      <th>death_yn</th>\n",
       "      <td>184155</td>\n",
       "      <td>2</td>\n",
       "      <td>No</td>\n",
       "      <td>110724</td>\n",
       "    </tr>\n",
       "    <tr>\n",
       "      <th>medcond_yn</th>\n",
       "      <td>184155</td>\n",
       "      <td>4</td>\n",
       "      <td>Missing</td>\n",
       "      <td>101496</td>\n",
       "    </tr>\n",
       "  </tbody>\n",
       "</table>\n",
       "</div>"
      ],
      "text/plain": [
       "                                count unique                        top  \\\n",
       "cdc_report_dt                  184155    287                 2020/06/10   \n",
       "pos_spec_dt                     67144    278                 2020/11/09   \n",
       "onset_dt                       118445    314                 2020/11/03   \n",
       "current_status                 184155      2  Laboratory-confirmed case   \n",
       "sex                            184154      5                     Female   \n",
       "age_group                      184151     10                  80+ Years   \n",
       "Race and ethnicity (combined)  184154      9        White, Non-Hispanic   \n",
       "hosp_yn                        184155      4                         No   \n",
       "icu_yn                         184155      4                    Missing   \n",
       "death_yn                       184155      2                         No   \n",
       "medcond_yn                     184155      4                    Missing   \n",
       "\n",
       "                                 freq  \n",
       "cdc_report_dt                    8553  \n",
       "pos_spec_dt                       834  \n",
       "onset_dt                          813  \n",
       "current_status                 173359  \n",
       "sex                             92108  \n",
       "age_group                       37917  \n",
       "Race and ethnicity (combined)   75938  \n",
       "hosp_yn                         91217  \n",
       "icu_yn                         103731  \n",
       "death_yn                       110724  \n",
       "medcond_yn                     101496  "
      ]
     },
     "execution_count": 147,
     "metadata": {},
     "output_type": "execute_result"
    }
   ],
   "source": [
    "df.describe().T"
   ]
  },
  {
   "cell_type": "code",
   "execution_count": 148,
   "id": "36ba23f7",
   "metadata": {},
   "outputs": [
    {
     "data": {
      "text/plain": [
       "Missing    101496\n",
       "Yes         42408\n",
       "Unknown     21830\n",
       "No          18421\n",
       "Name: medcond_yn, dtype: int64"
      ]
     },
     "execution_count": 148,
     "metadata": {},
     "output_type": "execute_result"
    }
   ],
   "source": [
    "df['medcond_yn'].value_counts(dropna=False)"
   ]
  },
  {
   "cell_type": "code",
   "execution_count": 149,
   "id": "5eb56347",
   "metadata": {},
   "outputs": [],
   "source": [
    "df['medcond_yn']=df['medcond_yn'].replace(['Missing'],'Unknown')"
   ]
  },
  {
   "cell_type": "code",
   "execution_count": 150,
   "id": "0b57536e",
   "metadata": {},
   "outputs": [
    {
     "data": {
      "text/plain": [
       "No     110724\n",
       "Yes     73431\n",
       "Name: death_yn, dtype: int64"
      ]
     },
     "execution_count": 150,
     "metadata": {},
     "output_type": "execute_result"
    }
   ],
   "source": [
    "df['death_yn'].value_counts(dropna=False)"
   ]
  },
  {
   "cell_type": "code",
   "execution_count": 151,
   "id": "c2b8cf34",
   "metadata": {},
   "outputs": [],
   "source": [
    "df['death_yn']=df['death_yn'].map({'Yes':1,'No':0})"
   ]
  },
  {
   "cell_type": "code",
   "execution_count": 152,
   "id": "5596fcc5",
   "metadata": {
    "scrolled": true
   },
   "outputs": [
    {
     "data": {
      "text/plain": [
       "Missing    103731\n",
       "Unknown     42300\n",
       "No          27584\n",
       "Yes         10540\n",
       "Name: icu_yn, dtype: int64"
      ]
     },
     "execution_count": 152,
     "metadata": {},
     "output_type": "execute_result"
    }
   ],
   "source": [
    "df['icu_yn'].value_counts(dropna=False)"
   ]
  },
  {
   "cell_type": "code",
   "execution_count": 153,
   "id": "ae854b1c",
   "metadata": {},
   "outputs": [],
   "source": [
    "df['icu_yn']=df['icu_yn'].replace(['Missing'],'Unknown')"
   ]
  },
  {
   "cell_type": "code",
   "execution_count": 154,
   "id": "72ddfe64",
   "metadata": {},
   "outputs": [
    {
     "data": {
      "text/plain": [
       "No         91217\n",
       "Yes        53384\n",
       "Unknown    20043\n",
       "Missing    19511\n",
       "Name: hosp_yn, dtype: int64"
      ]
     },
     "execution_count": 154,
     "metadata": {},
     "output_type": "execute_result"
    }
   ],
   "source": [
    "df['hosp_yn'].value_counts(dropna=False)"
   ]
  },
  {
   "cell_type": "code",
   "execution_count": 155,
   "id": "6fc095a5",
   "metadata": {},
   "outputs": [],
   "source": [
    "df['hosp_yn']=df['hosp_yn'].replace(['Missing'],'Unknown')"
   ]
  },
  {
   "cell_type": "code",
   "execution_count": 156,
   "id": "523dd68c",
   "metadata": {},
   "outputs": [
    {
     "data": {
      "text/plain": [
       "White, Non-Hispanic                                     75938\n",
       "Unknown                                                 39585\n",
       "Hispanic/Latino                                         26330\n",
       "Black, Non-Hispanic                                     22485\n",
       "Multiple/Other, Non-Hispanic                             6902\n",
       "Missing                                                  6789\n",
       "Asian, Non-Hispanic                                      4581\n",
       "American Indian/Alaska Native, Non-Hispanic              1100\n",
       "Native Hawaiian/Other Pacific Islander, Non-Hispanic      444\n",
       "NaN                                                         1\n",
       "Name: Race and ethnicity (combined), dtype: int64"
      ]
     },
     "execution_count": 156,
     "metadata": {},
     "output_type": "execute_result"
    }
   ],
   "source": [
    "df['Race and ethnicity (combined)'].value_counts(dropna=False)"
   ]
  },
  {
   "cell_type": "code",
   "execution_count": 157,
   "id": "d5f0e546",
   "metadata": {},
   "outputs": [],
   "source": [
    "df.rename(columns={'Race and ethnicity (combined)': 'Race_enthnicity'},inplace=True)"
   ]
  },
  {
   "cell_type": "code",
   "execution_count": 158,
   "id": "93d5a505",
   "metadata": {},
   "outputs": [],
   "source": [
    "df['Race_enthnicity']=df['Race_enthnicity'].replace(['Missing'],'Unknown')"
   ]
  },
  {
   "cell_type": "code",
   "execution_count": 159,
   "id": "ad112fc7",
   "metadata": {},
   "outputs": [],
   "source": [
    "df['Race_enthnicity']=df['Race_enthnicity'].fillna('Unknown')"
   ]
  },
  {
   "cell_type": "code",
   "execution_count": 160,
   "id": "6a553492",
   "metadata": {},
   "outputs": [
    {
     "data": {
      "text/plain": [
       "80+ Years        37917\n",
       "70 - 79 Years    24085\n",
       "60 - 69 Years    23112\n",
       "20 - 29 Years    22170\n",
       "50 - 59 Years    21916\n",
       "30 - 39 Years    19374\n",
       "40 - 49 Years    19255\n",
       "10 - 19 Years    11770\n",
       "0 - 9 Years       4413\n",
       "Unknown            139\n",
       "NaN                  4\n",
       "Name: age_group, dtype: int64"
      ]
     },
     "execution_count": 160,
     "metadata": {},
     "output_type": "execute_result"
    }
   ],
   "source": [
    "df['age_group'].value_counts(dropna=False)"
   ]
  },
  {
   "cell_type": "code",
   "execution_count": 161,
   "id": "7a1bcadf",
   "metadata": {},
   "outputs": [],
   "source": [
    "df['age_group']=df['age_group'].map({'0 - 9 Years':'0 - 19 Years',\n",
    "                                       '10 - 19 Years':'0 - 19 Years',\n",
    "                                       '20 - 29 Years':'20 - 39 Years',\n",
    "                                       '30 - 39 Years':'20 - 39 Years',\n",
    "                                       '40 - 49 Years':'40 - 59 Years',\n",
    "                                       '50 - 59 Years':'40 - 59 Years',\n",
    "                                       '60 - 69 Years':'60+ Years',\n",
    "                                       '70 - 79 Years':'60+ Years',\n",
    "                                       '80+ Years':'60+ Years',\n",
    "                                       'Unknown':'Unknown'})"
   ]
  },
  {
   "cell_type": "code",
   "execution_count": 162,
   "id": "f22baba2",
   "metadata": {},
   "outputs": [],
   "source": [
    "df['age_group']=df['age_group'].fillna('Unknown')"
   ]
  },
  {
   "cell_type": "code",
   "execution_count": 163,
   "id": "b26fbdc6",
   "metadata": {},
   "outputs": [
    {
     "data": {
      "text/plain": [
       "Female     92108\n",
       "Male       91269\n",
       "Unknown      537\n",
       "Missing      238\n",
       "Other          2\n",
       "NaN            1\n",
       "Name: sex, dtype: int64"
      ]
     },
     "execution_count": 163,
     "metadata": {},
     "output_type": "execute_result"
    }
   ],
   "source": [
    "df['sex'].value_counts(dropna=False)"
   ]
  },
  {
   "cell_type": "code",
   "execution_count": 164,
   "id": "1ed6e03a",
   "metadata": {},
   "outputs": [],
   "source": [
    "df['sex']=df['sex'].replace(['Missing','Other'],'Unknown')"
   ]
  },
  {
   "cell_type": "code",
   "execution_count": 165,
   "id": "31d15919",
   "metadata": {},
   "outputs": [],
   "source": [
    "df['sex']=df['sex'].fillna('Unknown')"
   ]
  },
  {
   "cell_type": "code",
   "execution_count": 166,
   "id": "40f94c6d",
   "metadata": {},
   "outputs": [
    {
     "data": {
      "text/plain": [
       "Laboratory-confirmed case    173359\n",
       "Probable Case                 10796\n",
       "Name: current_status, dtype: int64"
      ]
     },
     "execution_count": 166,
     "metadata": {},
     "output_type": "execute_result"
    }
   ],
   "source": [
    "df['current_status'].value_counts(dropna=False)"
   ]
  },
  {
   "cell_type": "code",
   "execution_count": 167,
   "id": "66b7f7d0",
   "metadata": {},
   "outputs": [],
   "source": [
    "df.drop(columns=['pos_spec_dt','onset_dt'],inplace=True)"
   ]
  },
  {
   "cell_type": "code",
   "execution_count": 168,
   "id": "f4646ad6",
   "metadata": {},
   "outputs": [
    {
     "name": "stdout",
     "output_type": "stream",
     "text": [
      "<class 'pandas.core.frame.DataFrame'>\n",
      "RangeIndex: 184155 entries, 0 to 184154\n",
      "Data columns (total 9 columns):\n",
      " #   Column           Non-Null Count   Dtype \n",
      "---  ------           --------------   ----- \n",
      " 0   cdc_report_dt    184155 non-null  object\n",
      " 1   current_status   184155 non-null  object\n",
      " 2   sex              184155 non-null  object\n",
      " 3   age_group        184155 non-null  object\n",
      " 4   Race_enthnicity  184155 non-null  object\n",
      " 5   hosp_yn          184155 non-null  object\n",
      " 6   icu_yn           184155 non-null  object\n",
      " 7   death_yn         184155 non-null  int64 \n",
      " 8   medcond_yn       184155 non-null  object\n",
      "dtypes: int64(1), object(8)\n",
      "memory usage: 12.6+ MB\n"
     ]
    }
   ],
   "source": [
    "df.info()"
   ]
  },
  {
   "cell_type": "code",
   "execution_count": 169,
   "id": "e8773ea4",
   "metadata": {},
   "outputs": [],
   "source": [
    "def date_format(data, x:str):\n",
    "    x_type=data[x].dtype\n",
    "    if isinstance(x_type, pd.core.dtypes.dtypes.DatetimeTZDtype):\n",
    "        x_type=np.datetime64\n",
    "    if not np.issubdtype(x_type,np.datetime64):\n",
    "        data[x]=pd.to_datetime(data[x], infer_datetime_format=True)"
   ]
  },
  {
   "cell_type": "code",
   "execution_count": 170,
   "id": "60e7e39f",
   "metadata": {},
   "outputs": [],
   "source": [
    "date_format(data=df,x='cdc_report_dt')"
   ]
  },
  {
   "cell_type": "code",
   "execution_count": 171,
   "id": "4be6553b",
   "metadata": {},
   "outputs": [
    {
     "data": {
      "text/plain": [
       "dtype('<M8[ns]')"
      ]
     },
     "execution_count": 171,
     "metadata": {},
     "output_type": "execute_result"
    }
   ],
   "source": [
    "df['cdc_report_dt'].dtypes"
   ]
  },
  {
   "cell_type": "code",
   "execution_count": 172,
   "id": "fa72af14",
   "metadata": {},
   "outputs": [],
   "source": [
    "df['quarter']=df['cdc_report_dt'].dt.quarter   # df['quarter']=df['cdc_report_dt'].dt.to_period('Q')\n",
    "df['month']=df['cdc_report_dt'].dt.month\n",
    "df['day']=df['cdc_report_dt'].dt.day\n",
    "df['day_of_week']=df['cdc_report_dt'].dt.dayofweek"
   ]
  },
  {
   "cell_type": "code",
   "execution_count": 211,
   "id": "0f61a9a4",
   "metadata": {},
   "outputs": [
    {
     "data": {
      "text/plain": [
       "6     27973\n",
       "10    25274\n",
       "11    24463\n",
       "7     22130\n",
       "4     21744\n",
       "8     20218\n",
       "9     19368\n",
       "5     17499\n",
       "3      5446\n",
       "2        31\n",
       "1         9\n",
       "Name: month, dtype: int64"
      ]
     },
     "execution_count": 211,
     "metadata": {},
     "output_type": "execute_result"
    }
   ],
   "source": [
    "df['month'].value_counts()    # there is no record of december in this data"
   ]
  },
  {
   "cell_type": "code",
   "execution_count": 173,
   "id": "3d5f6c5e",
   "metadata": {},
   "outputs": [],
   "source": [
    "def mnth_cat(x):\n",
    "    if x<=10:\n",
    "        return \"starting_of_month\"\n",
    "    elif x>10 and x<=20:\n",
    "        return \"mid_of_month\"\n",
    "    else:\n",
    "        return \"end_of_month\""
   ]
  },
  {
   "cell_type": "code",
   "execution_count": 174,
   "id": "e951838c",
   "metadata": {},
   "outputs": [],
   "source": [
    "df['month_cat']=df['day'].apply(mnth_cat)"
   ]
  },
  {
   "cell_type": "code",
   "execution_count": 175,
   "id": "6d7391cf",
   "metadata": {},
   "outputs": [
    {
     "data": {
      "text/plain": [
       "2    37372\n",
       "1    29241\n",
       "0    27831\n",
       "3    24210\n",
       "6    22150\n",
       "4    21904\n",
       "5    21447\n",
       "Name: day_of_week, dtype: int64"
      ]
     },
     "execution_count": 175,
     "metadata": {},
     "output_type": "execute_result"
    }
   ],
   "source": [
    "df['day_of_week'].value_counts()"
   ]
  },
  {
   "cell_type": "code",
   "execution_count": 176,
   "id": "e3313a9a",
   "metadata": {},
   "outputs": [],
   "source": [
    "def day_cat(x):\n",
    "    if x <= 4:\n",
    "        return \"weekday\"\n",
    "    else:\n",
    "        return \"weekend\""
   ]
  },
  {
   "cell_type": "code",
   "execution_count": 177,
   "id": "1e205c09",
   "metadata": {},
   "outputs": [],
   "source": [
    "df['day_cat']=df['day_of_week'].apply(lambda a : day_cat(a))"
   ]
  },
  {
   "cell_type": "code",
   "execution_count": 178,
   "id": "b20c0545",
   "metadata": {},
   "outputs": [
    {
     "data": {
      "text/plain": [
       "weekday    140558\n",
       "weekend     43597\n",
       "Name: day_cat, dtype: int64"
      ]
     },
     "execution_count": 178,
     "metadata": {},
     "output_type": "execute_result"
    }
   ],
   "source": [
    "df['day_cat'].value_counts()"
   ]
  },
  {
   "cell_type": "code",
   "execution_count": 179,
   "id": "992d5db4",
   "metadata": {},
   "outputs": [
    {
     "name": "stdout",
     "output_type": "stream",
     "text": [
      "<class 'pandas.core.frame.DataFrame'>\n",
      "RangeIndex: 184155 entries, 0 to 184154\n",
      "Data columns (total 15 columns):\n",
      " #   Column           Non-Null Count   Dtype         \n",
      "---  ------           --------------   -----         \n",
      " 0   cdc_report_dt    184155 non-null  datetime64[ns]\n",
      " 1   current_status   184155 non-null  object        \n",
      " 2   sex              184155 non-null  object        \n",
      " 3   age_group        184155 non-null  object        \n",
      " 4   Race_enthnicity  184155 non-null  object        \n",
      " 5   hosp_yn          184155 non-null  object        \n",
      " 6   icu_yn           184155 non-null  object        \n",
      " 7   death_yn         184155 non-null  int64         \n",
      " 8   medcond_yn       184155 non-null  object        \n",
      " 9   quarter          184155 non-null  int64         \n",
      " 10  month            184155 non-null  int64         \n",
      " 11  day              184155 non-null  int64         \n",
      " 12  day_of_week      184155 non-null  int64         \n",
      " 13  month_cat        184155 non-null  object        \n",
      " 14  day_cat          184155 non-null  object        \n",
      "dtypes: datetime64[ns](1), int64(5), object(9)\n",
      "memory usage: 21.1+ MB\n"
     ]
    }
   ],
   "source": [
    "df.info()"
   ]
  },
  {
   "cell_type": "code",
   "execution_count": 180,
   "id": "ee787926",
   "metadata": {},
   "outputs": [],
   "source": [
    "def univariate_cat(data,x):\n",
    "    missing=data[x].isnull().sum()\n",
    "    unique_cnt=data[x].nunique()\n",
    "    unique_cat=list(data[x].unique())\n",
    "    \n",
    "    f1=pd.DataFrame(data[x].value_counts(dropna=False))\n",
    "    f1.rename(columns={x:\"Count\"},inplace=True)\n",
    "    f2=pd.DataFrame(data[x].value_counts(normalize=True))\n",
    "    f2.rename(columns={x:\"Percentage\"},inplace=True)\n",
    "    f2[\"Percentage\"]=(f2[\"Percentage\"]*100).round(2).astype(str)+\" %\"\n",
    "    ff=pd.concat([f1,f2],axis=1)\n",
    "    \n",
    "    print(f\"Total missing values : {missing}\\n\")\n",
    "    print(f\"Total count of unique category : {unique_cnt}\\n\")\n",
    "    print(f\"Unique categories : \\n{unique_cat}\")\n",
    "    print(f\"Value count and % : \\n{ff}\")"
   ]
  },
  {
   "cell_type": "code",
   "execution_count": 181,
   "id": "78516895",
   "metadata": {},
   "outputs": [
    {
     "name": "stdout",
     "output_type": "stream",
     "text": [
      "Total missing values : 0\n",
      "\n",
      "Total count of unique category : 2\n",
      "\n",
      "Unique categories : \n",
      "[1, 0]\n",
      "Value count and % : \n",
      "    Count Percentage\n",
      "0  110724    60.13 %\n",
      "1   73431    39.87 %\n"
     ]
    }
   ],
   "source": [
    "univariate_cat(df,'death_yn')"
   ]
  },
  {
   "cell_type": "code",
   "execution_count": 182,
   "id": "32a43681",
   "metadata": {},
   "outputs": [
    {
     "name": "stdout",
     "output_type": "stream",
     "text": [
      "Total missing values : 0\n",
      "\n",
      "Total count of unique category : 3\n",
      "\n",
      "Unique categories : \n",
      "['Unknown', 'No', 'Yes']\n",
      "Value count and % : \n",
      "          Count Percentage\n",
      "Unknown  146031     79.3 %\n",
      "No        27584    14.98 %\n",
      "Yes       10540     5.72 %\n"
     ]
    }
   ],
   "source": [
    "univariate_cat(df,'icu_yn')"
   ]
  },
  {
   "cell_type": "code",
   "execution_count": 185,
   "id": "b3f8e5a7",
   "metadata": {},
   "outputs": [
    {
     "data": {
      "text/plain": [
       "<AxesSubplot:xlabel='icu_yn', ylabel='count'>"
      ]
     },
     "execution_count": 185,
     "metadata": {},
     "output_type": "execute_result"
    },
    {
     "data": {
      "image/png": "[encoded data removed]",
      "text/plain": [
       "<Figure size 432x288 with 1 Axes>"
      ]
     },
     "metadata": {
      "needs_background": "light"
     },
     "output_type": "display_data"
    }
   ],
   "source": [
    "sns.countplot(data=df,x='icu_yn',hue='death_yn')"
   ]
  },
  {
   "cell_type": "markdown",
   "id": "61515848",
   "metadata": {},
   "source": [
    "* People who were in icu have more deaths as compared to the people that were not."
   ]
  },
  {
   "cell_type": "code",
   "execution_count": 191,
   "id": "6b512201",
   "metadata": {},
   "outputs": [
    {
     "name": "stdout",
     "output_type": "stream",
     "text": [
      "<class 'pandas.core.frame.DataFrame'>\n",
      "RangeIndex: 184155 entries, 0 to 184154\n",
      "Data columns (total 15 columns):\n",
      " #   Column           Non-Null Count   Dtype         \n",
      "---  ------           --------------   -----         \n",
      " 0   cdc_report_dt    184155 non-null  datetime64[ns]\n",
      " 1   current_status   184155 non-null  object        \n",
      " 2   sex              184155 non-null  object        \n",
      " 3   age_group        184155 non-null  object        \n",
      " 4   Race_enthnicity  184155 non-null  object        \n",
      " 5   hosp_yn          184155 non-null  object        \n",
      " 6   icu_yn           184155 non-null  object        \n",
      " 7   death_yn         184155 non-null  int64         \n",
      " 8   medcond_yn       184155 non-null  object        \n",
      " 9   quarter          184155 non-null  int64         \n",
      " 10  month            184155 non-null  int64         \n",
      " 11  day              184155 non-null  int64         \n",
      " 12  day_of_week      184155 non-null  int64         \n",
      " 13  month_cat        184155 non-null  object        \n",
      " 14  day_cat          184155 non-null  object        \n",
      "dtypes: datetime64[ns](1), int64(5), object(9)\n",
      "memory usage: 21.1+ MB\n"
     ]
    }
   ],
   "source": [
    "df.info()"
   ]
  },
  {
   "cell_type": "code",
   "execution_count": 200,
   "id": "3cf4bbf4",
   "metadata": {},
   "outputs": [
    {
     "data": {
      "text/plain": [
       "<AxesSubplot:xlabel='death_yn', ylabel='count'>"
      ]
     },
     "execution_count": 200,
     "metadata": {},
     "output_type": "execute_result"
    },
    {
     "data": {
      "image/png": "[encoded data removed]",
      "text/plain": [
       "<Figure size 432x288 with 1 Axes>"
      ]
     },
     "metadata": {
      "needs_background": "light"
     },
     "output_type": "display_data"
    }
   ],
   "source": [
    "sns.countplot(data=df,hue='sex',x='death_yn')"
   ]
  },
  {
   "cell_type": "markdown",
   "id": "36405dfd",
   "metadata": {},
   "source": [
    "* Males have more death than females"
   ]
  },
  {
   "cell_type": "code",
   "execution_count": 203,
   "id": "d4e8550b",
   "metadata": {
    "scrolled": false
   },
   "outputs": [
    {
     "data": {
      "text/plain": [
       "<AxesSubplot:xlabel='death_yn', ylabel='count'>"
      ]
     },
     "execution_count": 203,
     "metadata": {},
     "output_type": "execute_result"
    },
    {
     "data": {
      "image/png": "[encoded data removed]",
      "text/plain": [
       "<Figure size 432x288 with 1 Axes>"
      ]
     },
     "metadata": {
      "needs_background": "light"
     },
     "output_type": "display_data"
    }
   ],
   "source": [
    "sns.countplot(data=df,hue='age_group',x='death_yn')"
   ]
  },
  {
   "cell_type": "code",
   "execution_count": 207,
   "id": "aa5f1a8c",
   "metadata": {},
   "outputs": [
    {
     "data": {
      "text/plain": [
       "<AxesSubplot:xlabel='age_group', ylabel='count'>"
      ]
     },
     "execution_count": 207,
     "metadata": {},
     "output_type": "execute_result"
    },
    {
     "data": {
      "image/png": "[encoded data removed]",
      "text/plain": [
       "<Figure size 432x288 with 1 Axes>"
      ]
     },
     "metadata": {
      "needs_background": "light"
     },
     "output_type": "display_data"
    }
   ],
   "source": [
    "sns.countplot(data=df,hue='hosp_yn',x='age_group')"
   ]
  },
  {
   "cell_type": "markdown",
   "id": "17cedc26",
   "metadata": {},
   "source": [
    "* People of age 60 and above have more chance of death."
   ]
  },
  {
   "cell_type": "code",
   "execution_count": 202,
   "id": "08a4e1ba",
   "metadata": {
    "scrolled": false
   },
   "outputs": [
    {
     "data": {
      "text/plain": [
       "<AxesSubplot:xlabel='death_yn', ylabel='count'>"
      ]
     },
     "execution_count": 202,
     "metadata": {},
     "output_type": "execute_result"
    },
    {
     "data": {
      "image/png": "[encoded data removed]",
      "text/plain": [
       "<Figure size 432x288 with 1 Axes>"
      ]
     },
     "metadata": {
      "needs_background": "light"
     },
     "output_type": "display_data"
    }
   ],
   "source": [
    "sns.countplot(data=df,hue='hosp_yn',x='death_yn')"
   ]
  },
  {
   "cell_type": "markdown",
   "id": "b1092427",
   "metadata": {},
   "source": [
    "* People who were admitted in hospital have more death rate than the people who were not."
   ]
  },
  {
   "cell_type": "code",
   "execution_count": 205,
   "id": "72e3fad6",
   "metadata": {},
   "outputs": [
    {
     "data": {
      "text/plain": [
       "<AxesSubplot:xlabel='death_yn', ylabel='count'>"
      ]
     },
     "execution_count": 205,
     "metadata": {},
     "output_type": "execute_result"
    },
    {
     "data": {
      "image/png": "[encoded data removed]",
      "text/plain": [
       "<Figure size 432x288 with 1 Axes>"
      ]
     },
     "metadata": {
      "needs_background": "light"
     },
     "output_type": "display_data"
    }
   ],
   "source": [
    "sns.countplot(data=df,hue='quarter',x='death_yn')"
   ]
  },
  {
   "cell_type": "markdown",
   "id": "1138aed1",
   "metadata": {},
   "source": [
    "* Death rate in second quarter is more."
   ]
  },
  {
   "cell_type": "code",
   "execution_count": 209,
   "id": "74751e8a",
   "metadata": {
    "scrolled": true
   },
   "outputs": [
    {
     "data": {
      "text/plain": [
       "<AxesSubplot:xlabel='death_yn', ylabel='count'>"
      ]
     },
     "execution_count": 209,
     "metadata": {},
     "output_type": "execute_result"
    },
    {
     "data": {
      "image/png": "[encoded data removed]",
      "text/plain": [
       "<Figure size 432x288 with 1 Axes>"
      ]
     },
     "metadata": {
      "needs_background": "light"
     },
     "output_type": "display_data"
    }
   ],
   "source": [
    "sns.countplot(data=df,hue='month',x='death_yn')"
   ]
  },
  {
   "cell_type": "code",
   "execution_count": 220,
   "id": "e1925b3e",
   "metadata": {},
   "outputs": [
    {
     "data": {
      "text/plain": [
       "<AxesSubplot:xlabel='month', ylabel='count'>"
      ]
     },
     "execution_count": 220,
     "metadata": {},
     "output_type": "execute_result"
    },
    {
     "data": {
      "image/png": "[encoded data removed]",
      "text/plain": [
       "<Figure size 432x288 with 1 Axes>"
      ]
     },
     "metadata": {
      "needs_background": "light"
     },
     "output_type": "display_data"
    }
   ],
   "source": [
    "sns.countplot(data=df,x='month',hue='death_yn')"
   ]
  },
  {
   "cell_type": "markdown",
   "id": "f8769fa1",
   "metadata": {},
   "source": [
    "* There are more deaths in April followed by June and less deaths in march."
   ]
  },
  {
   "cell_type": "code",
   "execution_count": 46,
   "id": "d1c389c9",
   "metadata": {},
   "outputs": [],
   "source": [
    "df.drop(columns=['cdc_report_dt'],inplace=True)"
   ]
  },
  {
   "cell_type": "code",
   "execution_count": 47,
   "id": "4856efc3",
   "metadata": {},
   "outputs": [
    {
     "name": "stdout",
     "output_type": "stream",
     "text": [
      "<class 'pandas.core.frame.DataFrame'>\n",
      "RangeIndex: 184155 entries, 0 to 184154\n",
      "Data columns (total 14 columns):\n",
      " #   Column           Non-Null Count   Dtype \n",
      "---  ------           --------------   ----- \n",
      " 0   current_status   184155 non-null  object\n",
      " 1   sex              184155 non-null  object\n",
      " 2   age_group        184155 non-null  object\n",
      " 3   Race_enthnicity  184155 non-null  object\n",
      " 4   hosp_yn          184155 non-null  object\n",
      " 5   icu_yn           184155 non-null  object\n",
      " 6   death_yn         184155 non-null  int64 \n",
      " 7   medcond_yn       184155 non-null  object\n",
      " 8   quarter          184155 non-null  int64 \n",
      " 9   month            184155 non-null  int64 \n",
      " 10  day              184155 non-null  int64 \n",
      " 11  day_of_week      184155 non-null  int64 \n",
      " 12  month_cat        184155 non-null  object\n",
      " 13  day_cat          184155 non-null  object\n",
      "dtypes: int64(5), object(9)\n",
      "memory usage: 19.7+ MB\n"
     ]
    }
   ],
   "source": [
    "df.info()"
   ]
  },
  {
   "cell_type": "markdown",
   "id": "6106d684",
   "metadata": {},
   "source": [
    "### Missing Value Treatment"
   ]
  },
  {
   "cell_type": "code",
   "execution_count": 48,
   "id": "8886d79a",
   "metadata": {},
   "outputs": [
    {
     "data": {
      "text/plain": [
       "current_status     0\n",
       "sex                0\n",
       "age_group          0\n",
       "Race_enthnicity    0\n",
       "hosp_yn            0\n",
       "icu_yn             0\n",
       "death_yn           0\n",
       "medcond_yn         0\n",
       "quarter            0\n",
       "month              0\n",
       "day                0\n",
       "day_of_week        0\n",
       "month_cat          0\n",
       "day_cat            0\n",
       "dtype: int64"
      ]
     },
     "execution_count": 48,
     "metadata": {},
     "output_type": "execute_result"
    }
   ],
   "source": [
    "df.isnull().sum()"
   ]
  },
  {
   "cell_type": "markdown",
   "id": "ad799709",
   "metadata": {},
   "source": [
    "* There is no missing value left now all has been replaced."
   ]
  },
  {
   "cell_type": "markdown",
   "id": "f19675ff",
   "metadata": {},
   "source": [
    "### Outliers"
   ]
  },
  {
   "cell_type": "code",
   "execution_count": 196,
   "id": "eee7ca67",
   "metadata": {},
   "outputs": [
    {
     "data": {
      "text/plain": [
       "<AxesSubplot:xlabel='death_yn'>"
      ]
     },
     "execution_count": 196,
     "metadata": {},
     "output_type": "execute_result"
    },
    {
     "data": {
      "image/png": "[encoded data removed]",
      "text/plain": [
       "<Figure size 432x288 with 1 Axes>"
      ]
     },
     "metadata": {
      "needs_background": "light"
     },
     "output_type": "display_data"
    }
   ],
   "source": [
    "sns.boxplot(data=df,x='death_yn')"
   ]
  },
  {
   "cell_type": "code",
   "execution_count": 50,
   "id": "4e606789",
   "metadata": {},
   "outputs": [
    {
     "data": {
      "text/html": [
       "<div>\n",
       "<style scoped>\n",
       "    .dataframe tbody tr th:only-of-type {\n",
       "        vertical-align: middle;\n",
       "    }\n",
       "\n",
       "    .dataframe tbody tr th {\n",
       "        vertical-align: top;\n",
       "    }\n",
       "\n",
       "    .dataframe thead th {\n",
       "        text-align: right;\n",
       "    }\n",
       "</style>\n",
       "<table border=\"1\" class=\"dataframe\">\n",
       "  <thead>\n",
       "    <tr style=\"text-align: right;\">\n",
       "      <th></th>\n",
       "      <th>count</th>\n",
       "      <th>mean</th>\n",
       "      <th>std</th>\n",
       "      <th>min</th>\n",
       "      <th>1%</th>\n",
       "      <th>2%</th>\n",
       "      <th>3%</th>\n",
       "      <th>4%</th>\n",
       "      <th>5%</th>\n",
       "      <th>25%</th>\n",
       "      <th>50%</th>\n",
       "      <th>75%</th>\n",
       "      <th>90%</th>\n",
       "      <th>95%</th>\n",
       "      <th>96%</th>\n",
       "      <th>97%</th>\n",
       "      <th>98%</th>\n",
       "      <th>99%</th>\n",
       "      <th>max</th>\n",
       "    </tr>\n",
       "  </thead>\n",
       "  <tbody>\n",
       "    <tr>\n",
       "      <th>death_yn</th>\n",
       "      <td>184155.0</td>\n",
       "      <td>0.398746</td>\n",
       "      <td>0.489642</td>\n",
       "      <td>0.0</td>\n",
       "      <td>0.0</td>\n",
       "      <td>0.0</td>\n",
       "      <td>0.0</td>\n",
       "      <td>0.0</td>\n",
       "      <td>0.0</td>\n",
       "      <td>0.0</td>\n",
       "      <td>0.0</td>\n",
       "      <td>1.0</td>\n",
       "      <td>1.0</td>\n",
       "      <td>1.0</td>\n",
       "      <td>1.0</td>\n",
       "      <td>1.0</td>\n",
       "      <td>1.0</td>\n",
       "      <td>1.0</td>\n",
       "      <td>1.0</td>\n",
       "    </tr>\n",
       "    <tr>\n",
       "      <th>quarter</th>\n",
       "      <td>184155.0</td>\n",
       "      <td>2.845505</td>\n",
       "      <td>0.854620</td>\n",
       "      <td>1.0</td>\n",
       "      <td>1.0</td>\n",
       "      <td>1.0</td>\n",
       "      <td>2.0</td>\n",
       "      <td>2.0</td>\n",
       "      <td>2.0</td>\n",
       "      <td>2.0</td>\n",
       "      <td>3.0</td>\n",
       "      <td>4.0</td>\n",
       "      <td>4.0</td>\n",
       "      <td>4.0</td>\n",
       "      <td>4.0</td>\n",
       "      <td>4.0</td>\n",
       "      <td>4.0</td>\n",
       "      <td>4.0</td>\n",
       "      <td>4.0</td>\n",
       "    </tr>\n",
       "    <tr>\n",
       "      <th>month</th>\n",
       "      <td>184155.0</td>\n",
       "      <td>7.447623</td>\n",
       "      <td>2.400948</td>\n",
       "      <td>1.0</td>\n",
       "      <td>3.0</td>\n",
       "      <td>3.0</td>\n",
       "      <td>4.0</td>\n",
       "      <td>4.0</td>\n",
       "      <td>4.0</td>\n",
       "      <td>6.0</td>\n",
       "      <td>7.0</td>\n",
       "      <td>10.0</td>\n",
       "      <td>11.0</td>\n",
       "      <td>11.0</td>\n",
       "      <td>11.0</td>\n",
       "      <td>11.0</td>\n",
       "      <td>11.0</td>\n",
       "      <td>11.0</td>\n",
       "      <td>11.0</td>\n",
       "    </tr>\n",
       "    <tr>\n",
       "      <th>day</th>\n",
       "      <td>184155.0</td>\n",
       "      <td>15.744965</td>\n",
       "      <td>8.478379</td>\n",
       "      <td>1.0</td>\n",
       "      <td>1.0</td>\n",
       "      <td>1.0</td>\n",
       "      <td>2.0</td>\n",
       "      <td>2.0</td>\n",
       "      <td>2.0</td>\n",
       "      <td>9.0</td>\n",
       "      <td>16.0</td>\n",
       "      <td>23.0</td>\n",
       "      <td>28.0</td>\n",
       "      <td>29.0</td>\n",
       "      <td>30.0</td>\n",
       "      <td>30.0</td>\n",
       "      <td>30.0</td>\n",
       "      <td>31.0</td>\n",
       "      <td>31.0</td>\n",
       "    </tr>\n",
       "    <tr>\n",
       "      <th>day_of_week</th>\n",
       "      <td>184155.0</td>\n",
       "      <td>2.738812</td>\n",
       "      <td>1.948675</td>\n",
       "      <td>0.0</td>\n",
       "      <td>0.0</td>\n",
       "      <td>0.0</td>\n",
       "      <td>0.0</td>\n",
       "      <td>0.0</td>\n",
       "      <td>0.0</td>\n",
       "      <td>1.0</td>\n",
       "      <td>2.0</td>\n",
       "      <td>4.0</td>\n",
       "      <td>6.0</td>\n",
       "      <td>6.0</td>\n",
       "      <td>6.0</td>\n",
       "      <td>6.0</td>\n",
       "      <td>6.0</td>\n",
       "      <td>6.0</td>\n",
       "      <td>6.0</td>\n",
       "    </tr>\n",
       "  </tbody>\n",
       "</table>\n",
       "</div>"
      ],
      "text/plain": [
       "                count       mean       std  min   1%   2%   3%   4%   5%  25%  \\\n",
       "death_yn     184155.0   0.398746  0.489642  0.0  0.0  0.0  0.0  0.0  0.0  0.0   \n",
       "quarter      184155.0   2.845505  0.854620  1.0  1.0  1.0  2.0  2.0  2.0  2.0   \n",
       "month        184155.0   7.447623  2.400948  1.0  3.0  3.0  4.0  4.0  4.0  6.0   \n",
       "day          184155.0  15.744965  8.478379  1.0  1.0  1.0  2.0  2.0  2.0  9.0   \n",
       "day_of_week  184155.0   2.738812  1.948675  0.0  0.0  0.0  0.0  0.0  0.0  1.0   \n",
       "\n",
       "              50%   75%   90%   95%   96%   97%   98%   99%   max  \n",
       "death_yn      0.0   1.0   1.0   1.0   1.0   1.0   1.0   1.0   1.0  \n",
       "quarter       3.0   4.0   4.0   4.0   4.0   4.0   4.0   4.0   4.0  \n",
       "month         7.0  10.0  11.0  11.0  11.0  11.0  11.0  11.0  11.0  \n",
       "day          16.0  23.0  28.0  29.0  30.0  30.0  30.0  31.0  31.0  \n",
       "day_of_week   2.0   4.0   6.0   6.0   6.0   6.0   6.0   6.0   6.0  "
      ]
     },
     "execution_count": 50,
     "metadata": {},
     "output_type": "execute_result"
    }
   ],
   "source": [
    "df.describe(percentiles=[.01,.02,.03,.04,.05,.25,.5,.75,.9,.95,.96,.97,.98,.99]).T"
   ]
  },
  {
   "cell_type": "markdown",
   "id": "536434a5",
   "metadata": {},
   "source": [
    "* There are no outliers in this data"
   ]
  },
  {
   "cell_type": "markdown",
   "id": "1102c35a",
   "metadata": {},
   "source": [
    "### Dummy Creation"
   ]
  },
  {
   "cell_type": "code",
   "execution_count": 51,
   "id": "73935c94",
   "metadata": {},
   "outputs": [
    {
     "data": {
      "text/plain": [
       "current_status     object\n",
       "sex                object\n",
       "age_group          object\n",
       "Race_enthnicity    object\n",
       "hosp_yn            object\n",
       "icu_yn             object\n",
       "medcond_yn         object\n",
       "month_cat          object\n",
       "day_cat            object\n",
       "dtype: object"
      ]
     },
     "execution_count": 51,
     "metadata": {},
     "output_type": "execute_result"
    }
   ],
   "source": [
    "df.dtypes[df.dtypes=='object']"
   ]
  },
  {
   "cell_type": "code",
   "execution_count": 52,
   "id": "4ef3b255",
   "metadata": {},
   "outputs": [],
   "source": [
    "df=pd.get_dummies(data=df, drop_first=True)"
   ]
  },
  {
   "cell_type": "code",
   "execution_count": 53,
   "id": "dfa1856a",
   "metadata": {},
   "outputs": [
    {
     "data": {
      "text/plain": [
       "Index(['death_yn', 'quarter', 'month', 'day', 'day_of_week',\n",
       "       'current_status_Probable Case', 'sex_Male', 'sex_Unknown',\n",
       "       'age_group_20 - 39 Years', 'age_group_40 - 59 Years',\n",
       "       'age_group_60+ Years', 'age_group_Unknown',\n",
       "       'Race_enthnicity_Asian, Non-Hispanic',\n",
       "       'Race_enthnicity_Black, Non-Hispanic',\n",
       "       'Race_enthnicity_Hispanic/Latino',\n",
       "       'Race_enthnicity_Multiple/Other, Non-Hispanic',\n",
       "       'Race_enthnicity_Native Hawaiian/Other Pacific Islander, Non-Hispanic',\n",
       "       'Race_enthnicity_Unknown', 'Race_enthnicity_White, Non-Hispanic',\n",
       "       'hosp_yn_Unknown', 'hosp_yn_Yes', 'icu_yn_Unknown', 'icu_yn_Yes',\n",
       "       'medcond_yn_Unknown', 'medcond_yn_Yes', 'month_cat_mid_of_month',\n",
       "       'month_cat_starting_of_month', 'day_cat_weekend'],\n",
       "      dtype='object')"
      ]
     },
     "execution_count": 53,
     "metadata": {},
     "output_type": "execute_result"
    }
   ],
   "source": [
    "df.columns"
   ]
  },
  {
   "cell_type": "code",
   "execution_count": 54,
   "id": "fd7715d3",
   "metadata": {
    "scrolled": true
   },
   "outputs": [
    {
     "name": "stderr",
     "output_type": "stream",
     "text": [
      "C:\\Users\\ABHAY\\AppData\\Local\\Temp\\ipykernel_11000\\4001130695.py:1: FutureWarning: The default value of regex will change from True to False in a future version.\n",
      "  df.columns=df.columns.str.replace(\"[-, /]\",'_')\n"
     ]
    }
   ],
   "source": [
    "df.columns=df.columns.str.replace(\"[-, /]\",'_')"
   ]
  },
  {
   "cell_type": "code",
   "execution_count": 55,
   "id": "12d9979d",
   "metadata": {
    "scrolled": false
   },
   "outputs": [
    {
     "data": {
      "text/plain": [
       "Index(['death_yn', 'quarter', 'month', 'day', 'day_of_week',\n",
       "       'current_status_Probable_Case', 'sex_Male', 'sex_Unknown',\n",
       "       'age_group_20___39_Years', 'age_group_40___59_Years',\n",
       "       'age_group_60+_Years', 'age_group_Unknown',\n",
       "       'Race_enthnicity_Asian__Non_Hispanic',\n",
       "       'Race_enthnicity_Black__Non_Hispanic',\n",
       "       'Race_enthnicity_Hispanic_Latino',\n",
       "       'Race_enthnicity_Multiple_Other__Non_Hispanic',\n",
       "       'Race_enthnicity_Native_Hawaiian_Other_Pacific_Islander__Non_Hispanic',\n",
       "       'Race_enthnicity_Unknown', 'Race_enthnicity_White__Non_Hispanic',\n",
       "       'hosp_yn_Unknown', 'hosp_yn_Yes', 'icu_yn_Unknown', 'icu_yn_Yes',\n",
       "       'medcond_yn_Unknown', 'medcond_yn_Yes', 'month_cat_mid_of_month',\n",
       "       'month_cat_starting_of_month', 'day_cat_weekend'],\n",
       "      dtype='object')"
      ]
     },
     "execution_count": 55,
     "metadata": {},
     "output_type": "execute_result"
    }
   ],
   "source": [
    "df.columns"
   ]
  },
  {
   "cell_type": "code",
   "execution_count": 56,
   "id": "0bd7313b",
   "metadata": {},
   "outputs": [
    {
     "data": {
      "text/plain": [
       "(184155, 28)"
      ]
     },
     "execution_count": 56,
     "metadata": {},
     "output_type": "execute_result"
    }
   ],
   "source": [
    "df.shape"
   ]
  },
  {
   "cell_type": "markdown",
   "id": "275dcec9",
   "metadata": {},
   "source": [
    "### Multicolinearity"
   ]
  },
  {
   "cell_type": "code",
   "execution_count": 57,
   "id": "beb8c6f1",
   "metadata": {},
   "outputs": [
    {
     "data": {
      "image/png": "[encoded data removed]",
      "text/plain": [
       "<Figure size 1800x1080 with 2 Axes>"
      ]
     },
     "metadata": {
      "needs_background": "light"
     },
     "output_type": "display_data"
    }
   ],
   "source": [
    "plt.figure(figsize=(25,15))\n",
    "cr=df.corr()\n",
    "sns.heatmap(data=cr, annot=True, cmap='coolwarm')\n",
    "plt.show()"
   ]
  },
  {
   "cell_type": "markdown",
   "id": "cae60975",
   "metadata": {},
   "source": [
    "### Model Development"
   ]
  },
  {
   "cell_type": "code",
   "execution_count": 58,
   "id": "8657ecff",
   "metadata": {},
   "outputs": [],
   "source": [
    "y=df['death_yn']\n",
    "x=df.drop(columns=['death_yn'])"
   ]
  },
  {
   "cell_type": "code",
   "execution_count": 59,
   "id": "991c8f9a",
   "metadata": {},
   "outputs": [],
   "source": [
    "x_train, x_test, y_train, y_test=train_test_split(x,y, test_size=.3,random_state=0)"
   ]
  },
  {
   "cell_type": "code",
   "execution_count": 60,
   "id": "defe6dfc",
   "metadata": {},
   "outputs": [
    {
     "data": {
      "text/plain": [
       "LogisticRegression(max_iter=1000)"
      ]
     },
     "execution_count": 60,
     "metadata": {},
     "output_type": "execute_result"
    }
   ],
   "source": [
    "logR=LogisticRegression(max_iter=1000)\n",
    "logR.fit(x_train,y_train)"
   ]
  },
  {
   "cell_type": "code",
   "execution_count": 61,
   "id": "e37f6d79",
   "metadata": {},
   "outputs": [
    {
     "name": "stdout",
     "output_type": "stream",
     "text": [
      "Train Score :  0.8858488224159866\n",
      "Test Score :  0.8871974948866002\n"
     ]
    }
   ],
   "source": [
    "print('Train Score : ', logR.score(x_train,y_train))\n",
    "print('Test Score : ', logR.score(x_test,y_test))"
   ]
  },
  {
   "cell_type": "code",
   "execution_count": 62,
   "id": "f78afa44",
   "metadata": {},
   "outputs": [],
   "source": [
    "pred_train=logR.predict(x_train)\n",
    "pred_test=logR.predict(x_test)"
   ]
  },
  {
   "cell_type": "markdown",
   "id": "b7b313ae",
   "metadata": {},
   "source": [
    "### Cofusion Matrix"
   ]
  },
  {
   "cell_type": "code",
   "execution_count": 63,
   "id": "dd7ed8bf",
   "metadata": {},
   "outputs": [],
   "source": [
    "conf_train=metrics.confusion_matrix(y_train,pred_train)"
   ]
  },
  {
   "cell_type": "code",
   "execution_count": 64,
   "id": "341379de",
   "metadata": {},
   "outputs": [
    {
     "data": {
      "text/html": [
       "<div>\n",
       "<style scoped>\n",
       "    .dataframe tbody tr th:only-of-type {\n",
       "        vertical-align: middle;\n",
       "    }\n",
       "\n",
       "    .dataframe tbody tr th {\n",
       "        vertical-align: top;\n",
       "    }\n",
       "\n",
       "    .dataframe thead th {\n",
       "        text-align: right;\n",
       "    }\n",
       "</style>\n",
       "<table border=\"1\" class=\"dataframe\">\n",
       "  <thead>\n",
       "    <tr style=\"text-align: right;\">\n",
       "      <th></th>\n",
       "      <th>Pred_0_neg</th>\n",
       "      <th>Pred_1_pos</th>\n",
       "    </tr>\n",
       "  </thead>\n",
       "  <tbody>\n",
       "    <tr>\n",
       "      <th>Act_0_neg</th>\n",
       "      <td>69591</td>\n",
       "      <td>7683</td>\n",
       "    </tr>\n",
       "    <tr>\n",
       "      <th>Act_1_pos</th>\n",
       "      <td>7032</td>\n",
       "      <td>44602</td>\n",
       "    </tr>\n",
       "  </tbody>\n",
       "</table>\n",
       "</div>"
      ],
      "text/plain": [
       "           Pred_0_neg  Pred_1_pos\n",
       "Act_0_neg       69591        7683\n",
       "Act_1_pos        7032       44602"
      ]
     },
     "execution_count": 64,
     "metadata": {},
     "output_type": "execute_result"
    }
   ],
   "source": [
    "pd.DataFrame(conf_train, columns=['Pred_0_neg','Pred_1_pos'], index=['Act_0_neg','Act_1_pos'])"
   ]
  },
  {
   "cell_type": "code",
   "execution_count": 65,
   "id": "5594f75e",
   "metadata": {},
   "outputs": [
    {
     "name": "stdout",
     "output_type": "stream",
     "text": [
      "              precision    recall  f1-score   support\n",
      "\n",
      "           0       0.91      0.90      0.90     77274\n",
      "           1       0.85      0.86      0.86     51634\n",
      "\n",
      "    accuracy                           0.89    128908\n",
      "   macro avg       0.88      0.88      0.88    128908\n",
      "weighted avg       0.89      0.89      0.89    128908\n",
      "\n"
     ]
    }
   ],
   "source": [
    "print(metrics.classification_report(y_train,pred_train))"
   ]
  },
  {
   "cell_type": "code",
   "execution_count": 66,
   "id": "940f6a08",
   "metadata": {},
   "outputs": [
    {
     "data": {
      "text/html": [
       "<div>\n",
       "<style scoped>\n",
       "    .dataframe tbody tr th:only-of-type {\n",
       "        vertical-align: middle;\n",
       "    }\n",
       "\n",
       "    .dataframe tbody tr th {\n",
       "        vertical-align: top;\n",
       "    }\n",
       "\n",
       "    .dataframe thead th {\n",
       "        text-align: right;\n",
       "    }\n",
       "</style>\n",
       "<table border=\"1\" class=\"dataframe\">\n",
       "  <thead>\n",
       "    <tr style=\"text-align: right;\">\n",
       "      <th></th>\n",
       "      <th>prob_0</th>\n",
       "      <th>prob_1</th>\n",
       "    </tr>\n",
       "  </thead>\n",
       "  <tbody>\n",
       "    <tr>\n",
       "      <th>0</th>\n",
       "      <td>0.931059</td>\n",
       "      <td>0.068941</td>\n",
       "    </tr>\n",
       "    <tr>\n",
       "      <th>1</th>\n",
       "      <td>0.036987</td>\n",
       "      <td>0.963013</td>\n",
       "    </tr>\n",
       "    <tr>\n",
       "      <th>2</th>\n",
       "      <td>0.787930</td>\n",
       "      <td>0.212070</td>\n",
       "    </tr>\n",
       "    <tr>\n",
       "      <th>3</th>\n",
       "      <td>0.028047</td>\n",
       "      <td>0.971953</td>\n",
       "    </tr>\n",
       "    <tr>\n",
       "      <th>4</th>\n",
       "      <td>0.221730</td>\n",
       "      <td>0.778270</td>\n",
       "    </tr>\n",
       "    <tr>\n",
       "      <th>...</th>\n",
       "      <td>...</td>\n",
       "      <td>...</td>\n",
       "    </tr>\n",
       "    <tr>\n",
       "      <th>128903</th>\n",
       "      <td>0.993644</td>\n",
       "      <td>0.006356</td>\n",
       "    </tr>\n",
       "    <tr>\n",
       "      <th>128904</th>\n",
       "      <td>0.572244</td>\n",
       "      <td>0.427756</td>\n",
       "    </tr>\n",
       "    <tr>\n",
       "      <th>128905</th>\n",
       "      <td>0.994293</td>\n",
       "      <td>0.005707</td>\n",
       "    </tr>\n",
       "    <tr>\n",
       "      <th>128906</th>\n",
       "      <td>0.780941</td>\n",
       "      <td>0.219059</td>\n",
       "    </tr>\n",
       "    <tr>\n",
       "      <th>128907</th>\n",
       "      <td>0.070739</td>\n",
       "      <td>0.929261</td>\n",
       "    </tr>\n",
       "  </tbody>\n",
       "</table>\n",
       "<p>128908 rows × 2 columns</p>\n",
       "</div>"
      ],
      "text/plain": [
       "          prob_0    prob_1\n",
       "0       0.931059  0.068941\n",
       "1       0.036987  0.963013\n",
       "2       0.787930  0.212070\n",
       "3       0.028047  0.971953\n",
       "4       0.221730  0.778270\n",
       "...          ...       ...\n",
       "128903  0.993644  0.006356\n",
       "128904  0.572244  0.427756\n",
       "128905  0.994293  0.005707\n",
       "128906  0.780941  0.219059\n",
       "128907  0.070739  0.929261\n",
       "\n",
       "[128908 rows x 2 columns]"
      ]
     },
     "execution_count": 66,
     "metadata": {},
     "output_type": "execute_result"
    }
   ],
   "source": [
    "prob_train=pd.DataFrame(logR.predict_proba(x_train),columns=['prob_0','prob_1'])\n",
    "prob_train"
   ]
  },
  {
   "cell_type": "markdown",
   "id": "aa33f2ed",
   "metadata": {},
   "source": [
    "### ROC and AUC"
   ]
  },
  {
   "cell_type": "code",
   "execution_count": 67,
   "id": "dad7a45f",
   "metadata": {},
   "outputs": [
    {
     "data": {
      "text/plain": [
       "0.882192623080674"
      ]
     },
     "execution_count": 67,
     "metadata": {},
     "output_type": "execute_result"
    }
   ],
   "source": [
    "fpr, tpr, thresholds=metrics.roc_curve(y_train,pred_train)\n",
    "roc_auc=metrics.auc(fpr,tpr)    # AUC : Area under the curve\n",
    "roc_auc"
   ]
  },
  {
   "cell_type": "code",
   "execution_count": 68,
   "id": "ea6cb41f",
   "metadata": {},
   "outputs": [
    {
     "data": {
      "image/png": "[encoded data removed]",
      "text/plain": [
       "<Figure size 432x288 with 1 Axes>"
      ]
     },
     "metadata": {
      "needs_background": "light"
     },
     "output_type": "display_data"
    }
   ],
   "source": [
    "display=metrics.RocCurveDisplay(fpr=fpr,tpr=tpr,roc_auc=roc_auc, estimator_name='Logistic Reg')\n",
    "display.plot()\n",
    "plt.show()"
   ]
  },
  {
   "cell_type": "markdown",
   "id": "f743b3e9",
   "metadata": {},
   "source": [
    "## Decision Tree"
   ]
  },
  {
   "cell_type": "code",
   "execution_count": 71,
   "id": "e9decffb",
   "metadata": {},
   "outputs": [
    {
     "data": {
      "text/plain": [
       "DecisionTreeClassifier()"
      ]
     },
     "execution_count": 71,
     "metadata": {},
     "output_type": "execute_result"
    }
   ],
   "source": [
    "dt=DecisionTreeClassifier()\n",
    "dt.fit(x_train,y_train)"
   ]
  },
  {
   "cell_type": "code",
   "execution_count": 72,
   "id": "03873ec1",
   "metadata": {},
   "outputs": [
    {
     "name": "stdout",
     "output_type": "stream",
     "text": [
      "Train Accuracy : 0.935\n",
      "Test Accuracy : 0.873\n"
     ]
    }
   ],
   "source": [
    "print('Train Accuracy :',round(dt.score(x_train,y_train),3))\n",
    "print('Test Accuracy :',round(dt.score(x_test,y_test),3))"
   ]
  },
  {
   "cell_type": "raw",
   "id": "51f60405",
   "metadata": {},
   "source": [
    "from sklearn.tree import plot_tree\n",
    "fn=x_train.columns\n",
    "cn=['yes','no']\n",
    "\n",
    "# setting dpi = 300 to make image clearer than default \n",
    "fig, axes=plt.subplots(nrows = 1, ncols = 1, figsize = (5,5), dpi=500)\n",
    "\n",
    "dt_plot=plot_tree(dt,\n",
    "                  feature_names = fn,\n",
    "                  class_names = cn,\n",
    "                  filled=True);"
   ]
  },
  {
   "cell_type": "markdown",
   "id": "2914e1df",
   "metadata": {},
   "source": [
    "### Grid Search and Random Search"
   ]
  },
  {
   "cell_type": "markdown",
   "id": "47497cd8",
   "metadata": {},
   "source": [
    "#### Gris Search : Parameter tuning"
   ]
  },
  {
   "cell_type": "code",
   "execution_count": 104,
   "id": "8a84531b",
   "metadata": {},
   "outputs": [
    {
     "name": "stdout",
     "output_type": "stream",
     "text": [
      "Fitting 10 folds for each of 392 candidates, totalling 3920 fits\n",
      "\n",
      " Total time taken : 1324.8259449005127\n"
     ]
    }
   ],
   "source": [
    "import time\n",
    "tic=time.time()\n",
    "\n",
    "params={\n",
    "    'criterion': ['gini','entropy'],\n",
    "    'max_depth': [9,11,13,15],\n",
    "    'min_samples_split': [10,15,20,50,100,200,250],\n",
    "    'min_samples_leaf': [5,10,15,20,50,80,100]}\n",
    "\n",
    "dtg=DecisionTreeClassifier()\n",
    "\n",
    "gd_search=GridSearchCV(estimator=dtg, param_grid=params, cv=10, n_jobs=-1, verbose=2)\n",
    "\n",
    "gd_search.fit(x_train, y_train)\n",
    "\n",
    "toc=time.time()\n",
    "print('\\n Total time taken :', toc-tic)"
   ]
  },
  {
   "cell_type": "code",
   "execution_count": 105,
   "id": "b3520fb3",
   "metadata": {},
   "outputs": [
    {
     "data": {
      "text/plain": [
       "{'criterion': 'entropy',\n",
       " 'max_depth': 11,\n",
       " 'min_samples_leaf': 15,\n",
       " 'min_samples_split': 50}"
      ]
     },
     "execution_count": 105,
     "metadata": {},
     "output_type": "execute_result"
    }
   ],
   "source": [
    "gd_search.best_params_"
   ]
  },
  {
   "cell_type": "code",
   "execution_count": 106,
   "id": "dfc89fd7",
   "metadata": {},
   "outputs": [
    {
     "data": {
      "text/plain": [
       "0.8937769634867129"
      ]
     },
     "execution_count": 106,
     "metadata": {},
     "output_type": "execute_result"
    }
   ],
   "source": [
    "gd_search.best_score_"
   ]
  },
  {
   "cell_type": "code",
   "execution_count": 107,
   "id": "416fecc6",
   "metadata": {},
   "outputs": [
    {
     "data": {
      "text/plain": [
       "DecisionTreeClassifier(criterion='entropy', max_depth=11, min_samples_leaf=15,\n",
       "                       min_samples_split=50)"
      ]
     },
     "execution_count": 107,
     "metadata": {},
     "output_type": "execute_result"
    }
   ],
   "source": [
    "gd_search.best_estimator_"
   ]
  },
  {
   "cell_type": "code",
   "execution_count": 108,
   "id": "b18c0ce4",
   "metadata": {},
   "outputs": [
    {
     "data": {
      "text/html": [
       "<div>\n",
       "<style scoped>\n",
       "    .dataframe tbody tr th:only-of-type {\n",
       "        vertical-align: middle;\n",
       "    }\n",
       "\n",
       "    .dataframe tbody tr th {\n",
       "        vertical-align: top;\n",
       "    }\n",
       "\n",
       "    .dataframe thead th {\n",
       "        text-align: right;\n",
       "    }\n",
       "</style>\n",
       "<table border=\"1\" class=\"dataframe\">\n",
       "  <thead>\n",
       "    <tr style=\"text-align: right;\">\n",
       "      <th></th>\n",
       "      <th>mean_fit_time</th>\n",
       "      <th>std_fit_time</th>\n",
       "      <th>mean_score_time</th>\n",
       "      <th>std_score_time</th>\n",
       "      <th>param_criterion</th>\n",
       "      <th>param_max_depth</th>\n",
       "      <th>param_min_samples_leaf</th>\n",
       "      <th>param_min_samples_split</th>\n",
       "      <th>params</th>\n",
       "      <th>split0_test_score</th>\n",
       "      <th>...</th>\n",
       "      <th>split3_test_score</th>\n",
       "      <th>split4_test_score</th>\n",
       "      <th>split5_test_score</th>\n",
       "      <th>split6_test_score</th>\n",
       "      <th>split7_test_score</th>\n",
       "      <th>split8_test_score</th>\n",
       "      <th>split9_test_score</th>\n",
       "      <th>mean_test_score</th>\n",
       "      <th>std_test_score</th>\n",
       "      <th>rank_test_score</th>\n",
       "    </tr>\n",
       "  </thead>\n",
       "  <tbody>\n",
       "    <tr>\n",
       "      <th>0</th>\n",
       "      <td>2.439273</td>\n",
       "      <td>0.193926</td>\n",
       "      <td>0.026557</td>\n",
       "      <td>0.014059</td>\n",
       "      <td>gini</td>\n",
       "      <td>9</td>\n",
       "      <td>5</td>\n",
       "      <td>10</td>\n",
       "      <td>{'criterion': 'gini', 'max_depth': 9, 'min_sam...</td>\n",
       "      <td>0.894810</td>\n",
       "      <td>...</td>\n",
       "      <td>0.893647</td>\n",
       "      <td>0.888527</td>\n",
       "      <td>0.891475</td>\n",
       "      <td>0.889147</td>\n",
       "      <td>0.891164</td>\n",
       "      <td>0.891544</td>\n",
       "      <td>0.894880</td>\n",
       "      <td>0.892559</td>\n",
       "      <td>0.002645</td>\n",
       "      <td>135</td>\n",
       "    </tr>\n",
       "    <tr>\n",
       "      <th>1</th>\n",
       "      <td>2.166947</td>\n",
       "      <td>0.068474</td>\n",
       "      <td>0.026557</td>\n",
       "      <td>0.007159</td>\n",
       "      <td>gini</td>\n",
       "      <td>9</td>\n",
       "      <td>5</td>\n",
       "      <td>15</td>\n",
       "      <td>{'criterion': 'gini', 'max_depth': 9, 'min_sam...</td>\n",
       "      <td>0.894810</td>\n",
       "      <td>...</td>\n",
       "      <td>0.893957</td>\n",
       "      <td>0.888604</td>\n",
       "      <td>0.891707</td>\n",
       "      <td>0.889535</td>\n",
       "      <td>0.890932</td>\n",
       "      <td>0.891699</td>\n",
       "      <td>0.894725</td>\n",
       "      <td>0.892621</td>\n",
       "      <td>0.002555</td>\n",
       "      <td>120</td>\n",
       "    </tr>\n",
       "    <tr>\n",
       "      <th>2</th>\n",
       "      <td>2.218757</td>\n",
       "      <td>0.062444</td>\n",
       "      <td>0.024992</td>\n",
       "      <td>0.010364</td>\n",
       "      <td>gini</td>\n",
       "      <td>9</td>\n",
       "      <td>5</td>\n",
       "      <td>20</td>\n",
       "      <td>{'criterion': 'gini', 'max_depth': 9, 'min_sam...</td>\n",
       "      <td>0.894733</td>\n",
       "      <td>...</td>\n",
       "      <td>0.894267</td>\n",
       "      <td>0.888527</td>\n",
       "      <td>0.891863</td>\n",
       "      <td>0.889535</td>\n",
       "      <td>0.890854</td>\n",
       "      <td>0.891621</td>\n",
       "      <td>0.894802</td>\n",
       "      <td>0.892660</td>\n",
       "      <td>0.002603</td>\n",
       "      <td>113</td>\n",
       "    </tr>\n",
       "    <tr>\n",
       "      <th>3</th>\n",
       "      <td>2.226439</td>\n",
       "      <td>0.090192</td>\n",
       "      <td>0.031283</td>\n",
       "      <td>0.017114</td>\n",
       "      <td>gini</td>\n",
       "      <td>9</td>\n",
       "      <td>5</td>\n",
       "      <td>50</td>\n",
       "      <td>{'criterion': 'gini', 'max_depth': 9, 'min_sam...</td>\n",
       "      <td>0.894733</td>\n",
       "      <td>...</td>\n",
       "      <td>0.894112</td>\n",
       "      <td>0.888837</td>\n",
       "      <td>0.891940</td>\n",
       "      <td>0.889768</td>\n",
       "      <td>0.891242</td>\n",
       "      <td>0.891854</td>\n",
       "      <td>0.895423</td>\n",
       "      <td>0.892854</td>\n",
       "      <td>0.002510</td>\n",
       "      <td>75</td>\n",
       "    </tr>\n",
       "    <tr>\n",
       "      <th>4</th>\n",
       "      <td>2.783159</td>\n",
       "      <td>0.292436</td>\n",
       "      <td>0.056288</td>\n",
       "      <td>0.023652</td>\n",
       "      <td>gini</td>\n",
       "      <td>9</td>\n",
       "      <td>5</td>\n",
       "      <td>100</td>\n",
       "      <td>{'criterion': 'gini', 'max_depth': 9, 'min_sam...</td>\n",
       "      <td>0.894965</td>\n",
       "      <td>...</td>\n",
       "      <td>0.893647</td>\n",
       "      <td>0.889303</td>\n",
       "      <td>0.892561</td>\n",
       "      <td>0.890078</td>\n",
       "      <td>0.891242</td>\n",
       "      <td>0.891466</td>\n",
       "      <td>0.895268</td>\n",
       "      <td>0.892908</td>\n",
       "      <td>0.002347</td>\n",
       "      <td>63</td>\n",
       "    </tr>\n",
       "    <tr>\n",
       "      <th>...</th>\n",
       "      <td>...</td>\n",
       "      <td>...</td>\n",
       "      <td>...</td>\n",
       "      <td>...</td>\n",
       "      <td>...</td>\n",
       "      <td>...</td>\n",
       "      <td>...</td>\n",
       "      <td>...</td>\n",
       "      <td>...</td>\n",
       "      <td>...</td>\n",
       "      <td>...</td>\n",
       "      <td>...</td>\n",
       "      <td>...</td>\n",
       "      <td>...</td>\n",
       "      <td>...</td>\n",
       "      <td>...</td>\n",
       "      <td>...</td>\n",
       "      <td>...</td>\n",
       "      <td>...</td>\n",
       "      <td>...</td>\n",
       "      <td>...</td>\n",
       "    </tr>\n",
       "    <tr>\n",
       "      <th>387</th>\n",
       "      <td>2.639345</td>\n",
       "      <td>0.091203</td>\n",
       "      <td>0.024994</td>\n",
       "      <td>0.007653</td>\n",
       "      <td>entropy</td>\n",
       "      <td>15</td>\n",
       "      <td>100</td>\n",
       "      <td>20</td>\n",
       "      <td>{'criterion': 'entropy', 'max_depth': 15, 'min...</td>\n",
       "      <td>0.895353</td>\n",
       "      <td>...</td>\n",
       "      <td>0.892949</td>\n",
       "      <td>0.889147</td>\n",
       "      <td>0.891164</td>\n",
       "      <td>0.888760</td>\n",
       "      <td>0.890389</td>\n",
       "      <td>0.891234</td>\n",
       "      <td>0.893483</td>\n",
       "      <td>0.892396</td>\n",
       "      <td>0.002650</td>\n",
       "      <td>208</td>\n",
       "    </tr>\n",
       "    <tr>\n",
       "      <th>388</th>\n",
       "      <td>2.629673</td>\n",
       "      <td>0.150720</td>\n",
       "      <td>0.023422</td>\n",
       "      <td>0.010488</td>\n",
       "      <td>entropy</td>\n",
       "      <td>15</td>\n",
       "      <td>100</td>\n",
       "      <td>50</td>\n",
       "      <td>{'criterion': 'entropy', 'max_depth': 15, 'min...</td>\n",
       "      <td>0.895353</td>\n",
       "      <td>...</td>\n",
       "      <td>0.892949</td>\n",
       "      <td>0.889147</td>\n",
       "      <td>0.891164</td>\n",
       "      <td>0.888760</td>\n",
       "      <td>0.890389</td>\n",
       "      <td>0.891234</td>\n",
       "      <td>0.893483</td>\n",
       "      <td>0.892396</td>\n",
       "      <td>0.002650</td>\n",
       "      <td>208</td>\n",
       "    </tr>\n",
       "    <tr>\n",
       "      <th>389</th>\n",
       "      <td>2.683533</td>\n",
       "      <td>0.068059</td>\n",
       "      <td>0.021870</td>\n",
       "      <td>0.007653</td>\n",
       "      <td>entropy</td>\n",
       "      <td>15</td>\n",
       "      <td>100</td>\n",
       "      <td>100</td>\n",
       "      <td>{'criterion': 'entropy', 'max_depth': 15, 'min...</td>\n",
       "      <td>0.895353</td>\n",
       "      <td>...</td>\n",
       "      <td>0.892949</td>\n",
       "      <td>0.889147</td>\n",
       "      <td>0.891164</td>\n",
       "      <td>0.888760</td>\n",
       "      <td>0.890389</td>\n",
       "      <td>0.891234</td>\n",
       "      <td>0.893483</td>\n",
       "      <td>0.892396</td>\n",
       "      <td>0.002650</td>\n",
       "      <td>208</td>\n",
       "    </tr>\n",
       "    <tr>\n",
       "      <th>390</th>\n",
       "      <td>2.740281</td>\n",
       "      <td>0.289239</td>\n",
       "      <td>0.029681</td>\n",
       "      <td>0.012976</td>\n",
       "      <td>entropy</td>\n",
       "      <td>15</td>\n",
       "      <td>100</td>\n",
       "      <td>200</td>\n",
       "      <td>{'criterion': 'entropy', 'max_depth': 15, 'min...</td>\n",
       "      <td>0.895353</td>\n",
       "      <td>...</td>\n",
       "      <td>0.892949</td>\n",
       "      <td>0.889147</td>\n",
       "      <td>0.891164</td>\n",
       "      <td>0.888760</td>\n",
       "      <td>0.890389</td>\n",
       "      <td>0.891234</td>\n",
       "      <td>0.893483</td>\n",
       "      <td>0.892396</td>\n",
       "      <td>0.002650</td>\n",
       "      <td>208</td>\n",
       "    </tr>\n",
       "    <tr>\n",
       "      <th>391</th>\n",
       "      <td>2.562406</td>\n",
       "      <td>0.375719</td>\n",
       "      <td>0.017184</td>\n",
       "      <td>0.010936</td>\n",
       "      <td>entropy</td>\n",
       "      <td>15</td>\n",
       "      <td>100</td>\n",
       "      <td>250</td>\n",
       "      <td>{'criterion': 'entropy', 'max_depth': 15, 'min...</td>\n",
       "      <td>0.894888</td>\n",
       "      <td>...</td>\n",
       "      <td>0.893724</td>\n",
       "      <td>0.889303</td>\n",
       "      <td>0.891009</td>\n",
       "      <td>0.889380</td>\n",
       "      <td>0.890621</td>\n",
       "      <td>0.891777</td>\n",
       "      <td>0.894647</td>\n",
       "      <td>0.892730</td>\n",
       "      <td>0.002844</td>\n",
       "      <td>95</td>\n",
       "    </tr>\n",
       "  </tbody>\n",
       "</table>\n",
       "<p>392 rows × 22 columns</p>\n",
       "</div>"
      ],
      "text/plain": [
       "     mean_fit_time  std_fit_time  mean_score_time  std_score_time  \\\n",
       "0         2.439273      0.193926         0.026557        0.014059   \n",
       "1         2.166947      0.068474         0.026557        0.007159   \n",
       "2         2.218757      0.062444         0.024992        0.010364   \n",
       "3         2.226439      0.090192         0.031283        0.017114   \n",
       "4         2.783159      0.292436         0.056288        0.023652   \n",
       "..             ...           ...              ...             ...   \n",
       "387       2.639345      0.091203         0.024994        0.007653   \n",
       "388       2.629673      0.150720         0.023422        0.010488   \n",
       "389       2.683533      0.068059         0.021870        0.007653   \n",
       "390       2.740281      0.289239         0.029681        0.012976   \n",
       "391       2.562406      0.375719         0.017184        0.010936   \n",
       "\n",
       "    param_criterion param_max_depth param_min_samples_leaf  \\\n",
       "0              gini               9                      5   \n",
       "1              gini               9                      5   \n",
       "2              gini               9                      5   \n",
       "3              gini               9                      5   \n",
       "4              gini               9                      5   \n",
       "..              ...             ...                    ...   \n",
       "387         entropy              15                    100   \n",
       "388         entropy              15                    100   \n",
       "389         entropy              15                    100   \n",
       "390         entropy              15                    100   \n",
       "391         entropy              15                    100   \n",
       "\n",
       "    param_min_samples_split  \\\n",
       "0                        10   \n",
       "1                        15   \n",
       "2                        20   \n",
       "3                        50   \n",
       "4                       100   \n",
       "..                      ...   \n",
       "387                      20   \n",
       "388                      50   \n",
       "389                     100   \n",
       "390                     200   \n",
       "391                     250   \n",
       "\n",
       "                                                params  split0_test_score  \\\n",
       "0    {'criterion': 'gini', 'max_depth': 9, 'min_sam...           0.894810   \n",
       "1    {'criterion': 'gini', 'max_depth': 9, 'min_sam...           0.894810   \n",
       "2    {'criterion': 'gini', 'max_depth': 9, 'min_sam...           0.894733   \n",
       "3    {'criterion': 'gini', 'max_depth': 9, 'min_sam...           0.894733   \n",
       "4    {'criterion': 'gini', 'max_depth': 9, 'min_sam...           0.894965   \n",
       "..                                                 ...                ...   \n",
       "387  {'criterion': 'entropy', 'max_depth': 15, 'min...           0.895353   \n",
       "388  {'criterion': 'entropy', 'max_depth': 15, 'min...           0.895353   \n",
       "389  {'criterion': 'entropy', 'max_depth': 15, 'min...           0.895353   \n",
       "390  {'criterion': 'entropy', 'max_depth': 15, 'min...           0.895353   \n",
       "391  {'criterion': 'entropy', 'max_depth': 15, 'min...           0.894888   \n",
       "\n",
       "     ...  split3_test_score  split4_test_score  split5_test_score  \\\n",
       "0    ...           0.893647           0.888527           0.891475   \n",
       "1    ...           0.893957           0.888604           0.891707   \n",
       "2    ...           0.894267           0.888527           0.891863   \n",
       "3    ...           0.894112           0.888837           0.891940   \n",
       "4    ...           0.893647           0.889303           0.892561   \n",
       "..   ...                ...                ...                ...   \n",
       "387  ...           0.892949           0.889147           0.891164   \n",
       "388  ...           0.892949           0.889147           0.891164   \n",
       "389  ...           0.892949           0.889147           0.891164   \n",
       "390  ...           0.892949           0.889147           0.891164   \n",
       "391  ...           0.893724           0.889303           0.891009   \n",
       "\n",
       "     split6_test_score  split7_test_score  split8_test_score  \\\n",
       "0             0.889147           0.891164           0.891544   \n",
       "1             0.889535           0.890932           0.891699   \n",
       "2             0.889535           0.890854           0.891621   \n",
       "3             0.889768           0.891242           0.891854   \n",
       "4             0.890078           0.891242           0.891466   \n",
       "..                 ...                ...                ...   \n",
       "387           0.888760           0.890389           0.891234   \n",
       "388           0.888760           0.890389           0.891234   \n",
       "389           0.888760           0.890389           0.891234   \n",
       "390           0.888760           0.890389           0.891234   \n",
       "391           0.889380           0.890621           0.891777   \n",
       "\n",
       "     split9_test_score  mean_test_score  std_test_score  rank_test_score  \n",
       "0             0.894880         0.892559        0.002645              135  \n",
       "1             0.894725         0.892621        0.002555              120  \n",
       "2             0.894802         0.892660        0.002603              113  \n",
       "3             0.895423         0.892854        0.002510               75  \n",
       "4             0.895268         0.892908        0.002347               63  \n",
       "..                 ...              ...             ...              ...  \n",
       "387           0.893483         0.892396        0.002650              208  \n",
       "388           0.893483         0.892396        0.002650              208  \n",
       "389           0.893483         0.892396        0.002650              208  \n",
       "390           0.893483         0.892396        0.002650              208  \n",
       "391           0.894647         0.892730        0.002844               95  \n",
       "\n",
       "[392 rows x 22 columns]"
      ]
     },
     "execution_count": 108,
     "metadata": {},
     "output_type": "execute_result"
    }
   ],
   "source": [
    "pd.DataFrame(gd_search.cv_results_)"
   ]
  },
  {
   "cell_type": "code",
   "execution_count": 109,
   "id": "a19fc8ec",
   "metadata": {},
   "outputs": [
    {
     "name": "stdout",
     "output_type": "stream",
     "text": [
      "Train Accuracy : 89.8 %\n",
      "Test Accuracy : 89.3 %\n"
     ]
    }
   ],
   "source": [
    "dt_f=DecisionTreeClassifier(criterion='entropy',max_depth=11, min_samples_leaf=15, min_samples_split=50)\n",
    "dt_f.fit(x_train,y_train)\n",
    "\n",
    "print('Train Accuracy : '+str(round(dt_f.score(x_train,y_train),3)*100)+str(' %'))\n",
    "print('Test Accuracy : '+str(round(dt_f.score(x_test,y_test),3)*100)+str(' %'))"
   ]
  },
  {
   "cell_type": "markdown",
   "id": "7c8d677e",
   "metadata": {},
   "source": [
    "### Feature Importance"
   ]
  },
  {
   "cell_type": "code",
   "execution_count": 110,
   "id": "594749ea",
   "metadata": {},
   "outputs": [
    {
     "data": {
      "text/plain": [
       "array([1.41636280e-02, 3.33086593e-02, 1.67697466e-02, 7.77359204e-03,\n",
       "       6.38399556e-03, 3.75978718e-03, 6.19816964e-05, 7.49224981e-04,\n",
       "       1.83173209e-02, 5.73448495e-01, 0.00000000e+00, 6.72147046e-05,\n",
       "       1.06588709e-03, 1.70541983e-03, 1.17458739e-03, 0.00000000e+00,\n",
       "       7.11585164e-03, 5.94060624e-03, 5.23828440e-02, 2.20160905e-01,\n",
       "       7.79537071e-03, 9.99648325e-03, 6.98286724e-03, 7.48777154e-03,\n",
       "       5.50751575e-04, 1.99070580e-03, 8.46302819e-04])"
      ]
     },
     "execution_count": 110,
     "metadata": {},
     "output_type": "execute_result"
    }
   ],
   "source": [
    "dt_f.feature_importances_"
   ]
  },
  {
   "cell_type": "code",
   "execution_count": 111,
   "id": "86e8f484",
   "metadata": {},
   "outputs": [
    {
     "data": {
      "text/html": [
       "<div>\n",
       "<style scoped>\n",
       "    .dataframe tbody tr th:only-of-type {\n",
       "        vertical-align: middle;\n",
       "    }\n",
       "\n",
       "    .dataframe tbody tr th {\n",
       "        vertical-align: top;\n",
       "    }\n",
       "\n",
       "    .dataframe thead th {\n",
       "        text-align: right;\n",
       "    }\n",
       "</style>\n",
       "<table border=\"1\" class=\"dataframe\">\n",
       "  <thead>\n",
       "    <tr style=\"text-align: right;\">\n",
       "      <th></th>\n",
       "      <th>Variable</th>\n",
       "      <th>Imp</th>\n",
       "    </tr>\n",
       "  </thead>\n",
       "  <tbody>\n",
       "    <tr>\n",
       "      <th>9</th>\n",
       "      <td>age_group_60+_Years</td>\n",
       "      <td>0.573448</td>\n",
       "    </tr>\n",
       "    <tr>\n",
       "      <th>19</th>\n",
       "      <td>hosp_yn_Yes</td>\n",
       "      <td>0.220161</td>\n",
       "    </tr>\n",
       "    <tr>\n",
       "      <th>18</th>\n",
       "      <td>hosp_yn_Unknown</td>\n",
       "      <td>0.052383</td>\n",
       "    </tr>\n",
       "    <tr>\n",
       "      <th>1</th>\n",
       "      <td>month</td>\n",
       "      <td>0.033309</td>\n",
       "    </tr>\n",
       "    <tr>\n",
       "      <th>8</th>\n",
       "      <td>age_group_40___59_Years</td>\n",
       "      <td>0.018317</td>\n",
       "    </tr>\n",
       "    <tr>\n",
       "      <th>2</th>\n",
       "      <td>day</td>\n",
       "      <td>0.016770</td>\n",
       "    </tr>\n",
       "    <tr>\n",
       "      <th>0</th>\n",
       "      <td>quarter</td>\n",
       "      <td>0.014164</td>\n",
       "    </tr>\n",
       "    <tr>\n",
       "      <th>21</th>\n",
       "      <td>icu_yn_Yes</td>\n",
       "      <td>0.009996</td>\n",
       "    </tr>\n",
       "    <tr>\n",
       "      <th>20</th>\n",
       "      <td>icu_yn_Unknown</td>\n",
       "      <td>0.007795</td>\n",
       "    </tr>\n",
       "    <tr>\n",
       "      <th>3</th>\n",
       "      <td>day_of_week</td>\n",
       "      <td>0.007774</td>\n",
       "    </tr>\n",
       "    <tr>\n",
       "      <th>23</th>\n",
       "      <td>medcond_yn_Yes</td>\n",
       "      <td>0.007488</td>\n",
       "    </tr>\n",
       "    <tr>\n",
       "      <th>16</th>\n",
       "      <td>Race_enthnicity_Unknown</td>\n",
       "      <td>0.007116</td>\n",
       "    </tr>\n",
       "    <tr>\n",
       "      <th>22</th>\n",
       "      <td>medcond_yn_Unknown</td>\n",
       "      <td>0.006983</td>\n",
       "    </tr>\n",
       "    <tr>\n",
       "      <th>4</th>\n",
       "      <td>current_status_Probable_Case</td>\n",
       "      <td>0.006384</td>\n",
       "    </tr>\n",
       "    <tr>\n",
       "      <th>17</th>\n",
       "      <td>Race_enthnicity_White__Non_Hispanic</td>\n",
       "      <td>0.005941</td>\n",
       "    </tr>\n",
       "    <tr>\n",
       "      <th>5</th>\n",
       "      <td>sex_Male</td>\n",
       "      <td>0.003760</td>\n",
       "    </tr>\n",
       "    <tr>\n",
       "      <th>25</th>\n",
       "      <td>month_cat_starting_of_month</td>\n",
       "      <td>0.001991</td>\n",
       "    </tr>\n",
       "    <tr>\n",
       "      <th>13</th>\n",
       "      <td>Race_enthnicity_Hispanic_Latino</td>\n",
       "      <td>0.001705</td>\n",
       "    </tr>\n",
       "    <tr>\n",
       "      <th>14</th>\n",
       "      <td>Race_enthnicity_Multiple_Other__Non_Hispanic</td>\n",
       "      <td>0.001175</td>\n",
       "    </tr>\n",
       "    <tr>\n",
       "      <th>12</th>\n",
       "      <td>Race_enthnicity_Black__Non_Hispanic</td>\n",
       "      <td>0.001066</td>\n",
       "    </tr>\n",
       "    <tr>\n",
       "      <th>26</th>\n",
       "      <td>day_cat_weekend</td>\n",
       "      <td>0.000846</td>\n",
       "    </tr>\n",
       "    <tr>\n",
       "      <th>7</th>\n",
       "      <td>age_group_20___39_Years</td>\n",
       "      <td>0.000749</td>\n",
       "    </tr>\n",
       "    <tr>\n",
       "      <th>24</th>\n",
       "      <td>month_cat_mid_of_month</td>\n",
       "      <td>0.000551</td>\n",
       "    </tr>\n",
       "    <tr>\n",
       "      <th>11</th>\n",
       "      <td>Race_enthnicity_Asian__Non_Hispanic</td>\n",
       "      <td>0.000067</td>\n",
       "    </tr>\n",
       "    <tr>\n",
       "      <th>6</th>\n",
       "      <td>sex_Unknown</td>\n",
       "      <td>0.000062</td>\n",
       "    </tr>\n",
       "    <tr>\n",
       "      <th>15</th>\n",
       "      <td>Race_enthnicity_Native_Hawaiian_Other_Pacific_...</td>\n",
       "      <td>0.000000</td>\n",
       "    </tr>\n",
       "    <tr>\n",
       "      <th>10</th>\n",
       "      <td>age_group_Unknown</td>\n",
       "      <td>0.000000</td>\n",
       "    </tr>\n",
       "  </tbody>\n",
       "</table>\n",
       "</div>"
      ],
      "text/plain": [
       "                                             Variable       Imp\n",
       "9                                 age_group_60+_Years  0.573448\n",
       "19                                        hosp_yn_Yes  0.220161\n",
       "18                                    hosp_yn_Unknown  0.052383\n",
       "1                                               month  0.033309\n",
       "8                             age_group_40___59_Years  0.018317\n",
       "2                                                 day  0.016770\n",
       "0                                             quarter  0.014164\n",
       "21                                         icu_yn_Yes  0.009996\n",
       "20                                     icu_yn_Unknown  0.007795\n",
       "3                                         day_of_week  0.007774\n",
       "23                                     medcond_yn_Yes  0.007488\n",
       "16                            Race_enthnicity_Unknown  0.007116\n",
       "22                                 medcond_yn_Unknown  0.006983\n",
       "4                        current_status_Probable_Case  0.006384\n",
       "17                Race_enthnicity_White__Non_Hispanic  0.005941\n",
       "5                                            sex_Male  0.003760\n",
       "25                        month_cat_starting_of_month  0.001991\n",
       "13                    Race_enthnicity_Hispanic_Latino  0.001705\n",
       "14       Race_enthnicity_Multiple_Other__Non_Hispanic  0.001175\n",
       "12                Race_enthnicity_Black__Non_Hispanic  0.001066\n",
       "26                                    day_cat_weekend  0.000846\n",
       "7                             age_group_20___39_Years  0.000749\n",
       "24                             month_cat_mid_of_month  0.000551\n",
       "11                Race_enthnicity_Asian__Non_Hispanic  0.000067\n",
       "6                                         sex_Unknown  0.000062\n",
       "15  Race_enthnicity_Native_Hawaiian_Other_Pacific_...  0.000000\n",
       "10                                  age_group_Unknown  0.000000"
      ]
     },
     "execution_count": 111,
     "metadata": {},
     "output_type": "execute_result"
    }
   ],
   "source": [
    "feat_imp=pd.DataFrame({'Variable': x_train.columns, 'Imp': dt_f.feature_importances_}).sort_values(by='Imp',ascending=False)\n",
    "feat_imp"
   ]
  },
  {
   "cell_type": "code",
   "execution_count": 112,
   "id": "08d01b91",
   "metadata": {},
   "outputs": [
    {
     "data": {
      "text/plain": [
       "array(['age_group_60+_Years', 'hosp_yn_Yes', 'hosp_yn_Unknown', 'month',\n",
       "       'age_group_40___59_Years', 'day', 'quarter'], dtype=object)"
      ]
     },
     "execution_count": 112,
     "metadata": {},
     "output_type": "execute_result"
    }
   ],
   "source": [
    "feat_imp[feat_imp['Imp']>=0.01]['Variable'].unique()"
   ]
  },
  {
   "cell_type": "code",
   "execution_count": 113,
   "id": "4d6cec56",
   "metadata": {},
   "outputs": [
    {
     "data": {
      "text/plain": [
       "<AxesSubplot:xlabel='Variable', ylabel='Imp'>"
      ]
     },
     "execution_count": 113,
     "metadata": {},
     "output_type": "execute_result"
    },
    {
     "data": {
      "image/png": "[encoded data removed]",
      "text/plain": [
       "<Figure size 1080x360 with 1 Axes>"
      ]
     },
     "metadata": {
      "needs_background": "light"
     },
     "output_type": "display_data"
    }
   ],
   "source": [
    "plt.figure(figsize=(15,5))\n",
    "sns.barplot(data=feat_imp.head(10), x='Variable',y='Imp')"
   ]
  },
  {
   "cell_type": "code",
   "execution_count": 114,
   "id": "e9d4a678",
   "metadata": {},
   "outputs": [],
   "source": [
    "x_train1=x_train[['age_group_60+_Years', 'hosp_yn_Yes', 'hosp_yn_Unknown', 'month',\n",
    "       'age_group_40___59_Years', 'day', 'quarter']]\n",
    "x_test1=x_test[['age_group_60+_Years', 'hosp_yn_Yes', 'hosp_yn_Unknown', 'month',\n",
    "       'age_group_40___59_Years', 'day', 'quarter']]"
   ]
  },
  {
   "cell_type": "code",
   "execution_count": 115,
   "id": "741567c4",
   "metadata": {},
   "outputs": [
    {
     "name": "stdout",
     "output_type": "stream",
     "text": [
      "Train Accuracy : 88.8 %\n",
      "Test Accuracy : 88.6 %\n"
     ]
    }
   ],
   "source": [
    "dt_f=DecisionTreeClassifier(criterion='entropy',max_depth=11, min_samples_leaf=15, min_samples_split=50)\n",
    "dt_f.fit(x_train1,y_train)\n",
    "\n",
    "print('Train Accuracy : '+str(round(dt_f.score(x_train1,y_train),3)*100)+str(' %'))\n",
    "print('Test Accuracy : '+str(round(dt_f.score(x_test1,y_test),3)*100)+str(' %'))"
   ]
  },
  {
   "cell_type": "code",
   "execution_count": 116,
   "id": "87c930ac",
   "metadata": {},
   "outputs": [],
   "source": [
    "pred_train=dt_f.predict(x_train1)\n",
    "pred_test=dt_f.predict(x_test1)"
   ]
  },
  {
   "cell_type": "code",
   "execution_count": 117,
   "id": "32b006f1",
   "metadata": {},
   "outputs": [],
   "source": [
    "prob_train_1=dt_f.predict_proba(x_train1)[:,1]\n",
    "prob_test_1=dt_f.predict_proba(x_test1)[:,1]"
   ]
  },
  {
   "cell_type": "code",
   "execution_count": 118,
   "id": "45c1853b",
   "metadata": {},
   "outputs": [],
   "source": [
    "def classification_eva(act,pred,probs):\n",
    "    ac1=metrics.accuracy_score(act,pred)\n",
    "    rc1=metrics.recall_score(act,pred)\n",
    "    pc1=metrics.precision_score(act,pred)\n",
    "    f1=metrics.f1_score(act,pred)\n",
    "    auc1=metrics.roc_auc_score(act,pred)\n",
    "    result={'Accuracy':ac1, 'Recall':rc1, 'Precision': pc1, 'F1 score': f1, 'AUC':auc1}\n",
    "    \n",
    "    fpr, tpr, thresholds=metrics.roc_curve(act,probs)\n",
    "    plt.plot([0,1],[0,1],'k--')\n",
    "    plt.plot(fpr,tpr)\n",
    "    plt.xlabel('fpr')\n",
    "    plt.ylabel('tpr')\n",
    "    plt.show()\n",
    "    return result"
   ]
  },
  {
   "cell_type": "code",
   "execution_count": 119,
   "id": "26ce8782",
   "metadata": {},
   "outputs": [
    {
     "data": {
      "image/png": "[encoded data removed]",
      "text/plain": [
       "<Figure size 432x288 with 1 Axes>"
      ]
     },
     "metadata": {
      "needs_background": "light"
     },
     "output_type": "display_data"
    },
    {
     "data": {
      "text/plain": [
       "{'Accuracy': 0.8880441865516492,\n",
       " 'Recall': 0.8845334469535577,\n",
       " 'Precision': 0.8435595286468915,\n",
       " 'F1 score': 0.8635607321131448,\n",
       " 'AUC': 0.8874617437940913}"
      ]
     },
     "execution_count": 119,
     "metadata": {},
     "output_type": "execute_result"
    }
   ],
   "source": [
    "classification_eva(y_train,pred_train, probs=prob_train_1)"
   ]
  },
  {
   "cell_type": "code",
   "execution_count": 120,
   "id": "d83cb101",
   "metadata": {},
   "outputs": [
    {
     "data": {
      "image/png": "[encoded data removed]",
      "text/plain": [
       "<Figure size 432x288 with 1 Axes>"
      ]
     },
     "metadata": {
      "needs_background": "light"
     },
     "output_type": "display_data"
    },
    {
     "data": {
      "text/plain": [
       "{'Accuracy': 0.88618386518725,\n",
       " 'Recall': 0.879845850346378,\n",
       " 'Precision': 0.8394099881822559,\n",
       " 'F1 score': 0.8591524056984142,\n",
       " 'AUC': 0.8850798758458347}"
      ]
     },
     "execution_count": 120,
     "metadata": {},
     "output_type": "execute_result"
    }
   ],
   "source": [
    "classification_eva(y_test,pred_test, probs=prob_test_1)"
   ]
  },
  {
   "cell_type": "markdown",
   "id": "7ecbdcbe",
   "metadata": {},
   "source": [
    "### Random Forest"
   ]
  },
  {
   "cell_type": "code",
   "execution_count": 121,
   "id": "cd21e7ec",
   "metadata": {},
   "outputs": [
    {
     "data": {
      "text/plain": [
       "RandomForestClassifier()"
      ]
     },
     "execution_count": 121,
     "metadata": {},
     "output_type": "execute_result"
    }
   ],
   "source": [
    "rf=RandomForestClassifier()\n",
    "rf.fit(x_train,y_train)"
   ]
  },
  {
   "cell_type": "code",
   "execution_count": 122,
   "id": "188994d4",
   "metadata": {},
   "outputs": [
    {
     "name": "stdout",
     "output_type": "stream",
     "text": [
      "Train Accuracy : 0.9348993080336364\n",
      "Test Accuracy : 0.8849168280630623\n"
     ]
    }
   ],
   "source": [
    "print('Train Accuracy :',rf.score(x_train,y_train))\n",
    "print('Test Accuracy :',rf.score(x_test,y_test))"
   ]
  },
  {
   "cell_type": "code",
   "execution_count": 123,
   "id": "bdf3439f",
   "metadata": {},
   "outputs": [
    {
     "name": "stdout",
     "output_type": "stream",
     "text": [
      "Fitting 10 folds for each of 576 candidates, totalling 5760 fits\n",
      "\n",
      " Total time taken : 59858.954600811005\n"
     ]
    }
   ],
   "source": [
    "import time\n",
    "tic=time.time()\n",
    "\n",
    "params={'n_estimators':[100,150,200],\n",
    "         'criterion': ['gini','entropy'],\n",
    "         'max_depth': [9,11,13,15],\n",
    "         'min_samples_split': [50,100,200],\n",
    "         'min_samples_leaf': [5,10,15,20],\n",
    "         'max_features':['sqrt','log2'],\n",
    "         'bootstrap':[True]\n",
    "        }\n",
    "rf1=RandomForestClassifier()\n",
    "gs_rf=GridSearchCV(estimator=rf1, param_grid=params, cv=10, n_jobs=-1, verbose=1)\n",
    "gs_rf.fit(x_train,y_train)\n",
    "\n",
    "toc=time.time()\n",
    "print('\\n Total time taken :', toc-tic)"
   ]
  },
  {
   "cell_type": "code",
   "execution_count": 126,
   "id": "d650f1fc",
   "metadata": {},
   "outputs": [
    {
     "data": {
      "text/plain": [
       "{'bootstrap': True,\n",
       " 'criterion': 'gini',\n",
       " 'max_depth': 15,\n",
       " 'max_features': 'sqrt',\n",
       " 'min_samples_leaf': 5,\n",
       " 'min_samples_split': 50,\n",
       " 'n_estimators': 100}"
      ]
     },
     "execution_count": 126,
     "metadata": {},
     "output_type": "execute_result"
    }
   ],
   "source": [
    "gs_rf.best_params_"
   ]
  },
  {
   "cell_type": "code",
   "execution_count": 127,
   "id": "566b5e93",
   "metadata": {},
   "outputs": [
    {
     "data": {
      "text/plain": [
       "0.8951655460034031"
      ]
     },
     "execution_count": 127,
     "metadata": {},
     "output_type": "execute_result"
    }
   ],
   "source": [
    "gs_rf.best_score_"
   ]
  },
  {
   "cell_type": "code",
   "execution_count": 128,
   "id": "ed75ac08",
   "metadata": {},
   "outputs": [
    {
     "data": {
      "text/plain": [
       "RandomForestClassifier(max_depth=15, max_features='sqrt', min_samples_leaf=5,\n",
       "                       min_samples_split=50)"
      ]
     },
     "execution_count": 128,
     "metadata": {},
     "output_type": "execute_result"
    }
   ],
   "source": [
    "gs_rf.best_estimator_"
   ]
  },
  {
   "cell_type": "code",
   "execution_count": 130,
   "id": "be1a1d7b",
   "metadata": {},
   "outputs": [
    {
     "data": {
      "text/plain": [
       "RandomForestClassifier(max_depth=15, max_features='sqrt', min_samples_leaf=5,\n",
       "                       min_samples_split=50)"
      ]
     },
     "execution_count": 130,
     "metadata": {},
     "output_type": "execute_result"
    }
   ],
   "source": [
    "rff=RandomForestClassifier(n_estimators=100, criterion='gini', max_depth= 15, max_features= 'sqrt', \n",
    "                           min_samples_leaf= 5, min_samples_split= 50, bootstrap=True)\n",
    "rff.fit(x_train,y_train)"
   ]
  },
  {
   "cell_type": "code",
   "execution_count": 131,
   "id": "0523577a",
   "metadata": {},
   "outputs": [
    {
     "name": "stdout",
     "output_type": "stream",
     "text": [
      "Train Accuracy : 0.8986331337077605\n",
      "Test Accuracy : 0.8944739080855069\n"
     ]
    }
   ],
   "source": [
    "print('Train Accuracy :',rff.score(x_train,y_train))\n",
    "print('Test Accuracy :',rff.score(x_test,y_test))"
   ]
  },
  {
   "cell_type": "markdown",
   "id": "eba0e66d",
   "metadata": {},
   "source": [
    "### Feature Importance"
   ]
  },
  {
   "cell_type": "code",
   "execution_count": 132,
   "id": "434e296e",
   "metadata": {},
   "outputs": [
    {
     "data": {
      "text/html": [
       "<div>\n",
       "<style scoped>\n",
       "    .dataframe tbody tr th:only-of-type {\n",
       "        vertical-align: middle;\n",
       "    }\n",
       "\n",
       "    .dataframe tbody tr th {\n",
       "        vertical-align: top;\n",
       "    }\n",
       "\n",
       "    .dataframe thead th {\n",
       "        text-align: right;\n",
       "    }\n",
       "</style>\n",
       "<table border=\"1\" class=\"dataframe\">\n",
       "  <thead>\n",
       "    <tr style=\"text-align: right;\">\n",
       "      <th></th>\n",
       "      <th>Var</th>\n",
       "      <th>Imp</th>\n",
       "    </tr>\n",
       "  </thead>\n",
       "  <tbody>\n",
       "    <tr>\n",
       "      <th>9</th>\n",
       "      <td>age_group_60+_Years</td>\n",
       "      <td>0.367095</td>\n",
       "    </tr>\n",
       "    <tr>\n",
       "      <th>19</th>\n",
       "      <td>hosp_yn_Yes</td>\n",
       "      <td>0.245948</td>\n",
       "    </tr>\n",
       "    <tr>\n",
       "      <th>7</th>\n",
       "      <td>age_group_20___39_Years</td>\n",
       "      <td>0.087452</td>\n",
       "    </tr>\n",
       "    <tr>\n",
       "      <th>1</th>\n",
       "      <td>month</td>\n",
       "      <td>0.060633</td>\n",
       "    </tr>\n",
       "    <tr>\n",
       "      <th>18</th>\n",
       "      <td>hosp_yn_Unknown</td>\n",
       "      <td>0.040012</td>\n",
       "    </tr>\n",
       "    <tr>\n",
       "      <th>8</th>\n",
       "      <td>age_group_40___59_Years</td>\n",
       "      <td>0.037881</td>\n",
       "    </tr>\n",
       "    <tr>\n",
       "      <th>21</th>\n",
       "      <td>icu_yn_Yes</td>\n",
       "      <td>0.033778</td>\n",
       "    </tr>\n",
       "    <tr>\n",
       "      <th>0</th>\n",
       "      <td>quarter</td>\n",
       "      <td>0.032645</td>\n",
       "    </tr>\n",
       "    <tr>\n",
       "      <th>23</th>\n",
       "      <td>medcond_yn_Yes</td>\n",
       "      <td>0.022296</td>\n",
       "    </tr>\n",
       "    <tr>\n",
       "      <th>2</th>\n",
       "      <td>day</td>\n",
       "      <td>0.012821</td>\n",
       "    </tr>\n",
       "    <tr>\n",
       "      <th>22</th>\n",
       "      <td>medcond_yn_Unknown</td>\n",
       "      <td>0.008577</td>\n",
       "    </tr>\n",
       "    <tr>\n",
       "      <th>16</th>\n",
       "      <td>Race_enthnicity_Unknown</td>\n",
       "      <td>0.008536</td>\n",
       "    </tr>\n",
       "    <tr>\n",
       "      <th>3</th>\n",
       "      <td>day_of_week</td>\n",
       "      <td>0.007224</td>\n",
       "    </tr>\n",
       "    <tr>\n",
       "      <th>17</th>\n",
       "      <td>Race_enthnicity_White__Non_Hispanic</td>\n",
       "      <td>0.006726</td>\n",
       "    </tr>\n",
       "    <tr>\n",
       "      <th>20</th>\n",
       "      <td>icu_yn_Unknown</td>\n",
       "      <td>0.006060</td>\n",
       "    </tr>\n",
       "    <tr>\n",
       "      <th>4</th>\n",
       "      <td>current_status_Probable_Case</td>\n",
       "      <td>0.006021</td>\n",
       "    </tr>\n",
       "    <tr>\n",
       "      <th>5</th>\n",
       "      <td>sex_Male</td>\n",
       "      <td>0.003175</td>\n",
       "    </tr>\n",
       "    <tr>\n",
       "      <th>26</th>\n",
       "      <td>day_cat_weekend</td>\n",
       "      <td>0.002691</td>\n",
       "    </tr>\n",
       "    <tr>\n",
       "      <th>13</th>\n",
       "      <td>Race_enthnicity_Hispanic_Latino</td>\n",
       "      <td>0.002570</td>\n",
       "    </tr>\n",
       "    <tr>\n",
       "      <th>12</th>\n",
       "      <td>Race_enthnicity_Black__Non_Hispanic</td>\n",
       "      <td>0.002418</td>\n",
       "    </tr>\n",
       "    <tr>\n",
       "      <th>25</th>\n",
       "      <td>month_cat_starting_of_month</td>\n",
       "      <td>0.002184</td>\n",
       "    </tr>\n",
       "    <tr>\n",
       "      <th>24</th>\n",
       "      <td>month_cat_mid_of_month</td>\n",
       "      <td>0.001682</td>\n",
       "    </tr>\n",
       "    <tr>\n",
       "      <th>14</th>\n",
       "      <td>Race_enthnicity_Multiple_Other__Non_Hispanic</td>\n",
       "      <td>0.001008</td>\n",
       "    </tr>\n",
       "    <tr>\n",
       "      <th>11</th>\n",
       "      <td>Race_enthnicity_Asian__Non_Hispanic</td>\n",
       "      <td>0.000456</td>\n",
       "    </tr>\n",
       "    <tr>\n",
       "      <th>6</th>\n",
       "      <td>sex_Unknown</td>\n",
       "      <td>0.000068</td>\n",
       "    </tr>\n",
       "    <tr>\n",
       "      <th>15</th>\n",
       "      <td>Race_enthnicity_Native_Hawaiian_Other_Pacific_...</td>\n",
       "      <td>0.000031</td>\n",
       "    </tr>\n",
       "    <tr>\n",
       "      <th>10</th>\n",
       "      <td>age_group_Unknown</td>\n",
       "      <td>0.000013</td>\n",
       "    </tr>\n",
       "  </tbody>\n",
       "</table>\n",
       "</div>"
      ],
      "text/plain": [
       "                                                  Var       Imp\n",
       "9                                 age_group_60+_Years  0.367095\n",
       "19                                        hosp_yn_Yes  0.245948\n",
       "7                             age_group_20___39_Years  0.087452\n",
       "1                                               month  0.060633\n",
       "18                                    hosp_yn_Unknown  0.040012\n",
       "8                             age_group_40___59_Years  0.037881\n",
       "21                                         icu_yn_Yes  0.033778\n",
       "0                                             quarter  0.032645\n",
       "23                                     medcond_yn_Yes  0.022296\n",
       "2                                                 day  0.012821\n",
       "22                                 medcond_yn_Unknown  0.008577\n",
       "16                            Race_enthnicity_Unknown  0.008536\n",
       "3                                         day_of_week  0.007224\n",
       "17                Race_enthnicity_White__Non_Hispanic  0.006726\n",
       "20                                     icu_yn_Unknown  0.006060\n",
       "4                        current_status_Probable_Case  0.006021\n",
       "5                                            sex_Male  0.003175\n",
       "26                                    day_cat_weekend  0.002691\n",
       "13                    Race_enthnicity_Hispanic_Latino  0.002570\n",
       "12                Race_enthnicity_Black__Non_Hispanic  0.002418\n",
       "25                        month_cat_starting_of_month  0.002184\n",
       "24                             month_cat_mid_of_month  0.001682\n",
       "14       Race_enthnicity_Multiple_Other__Non_Hispanic  0.001008\n",
       "11                Race_enthnicity_Asian__Non_Hispanic  0.000456\n",
       "6                                         sex_Unknown  0.000068\n",
       "15  Race_enthnicity_Native_Hawaiian_Other_Pacific_...  0.000031\n",
       "10                                  age_group_Unknown  0.000013"
      ]
     },
     "execution_count": 132,
     "metadata": {},
     "output_type": "execute_result"
    }
   ],
   "source": [
    "pd.DataFrame({'Var':x_train.columns,'Imp':rff.feature_importances_}).sort_values(by='Imp',ascending=False)"
   ]
  },
  {
   "cell_type": "markdown",
   "id": "b36c2a69",
   "metadata": {},
   "source": [
    "### Model Evolution"
   ]
  },
  {
   "cell_type": "code",
   "execution_count": 133,
   "id": "8508ac4e",
   "metadata": {},
   "outputs": [],
   "source": [
    "pred_train=rff.predict(x_train)\n",
    "pred_test=rff.predict(x_test)"
   ]
  },
  {
   "cell_type": "code",
   "execution_count": 134,
   "id": "b0011261",
   "metadata": {},
   "outputs": [],
   "source": [
    "prob_train_1=rff.predict_proba(x_train)[:,1]\n",
    "prob_test_1=rff.predict_proba(x_test)[:,1]"
   ]
  },
  {
   "cell_type": "code",
   "execution_count": 136,
   "id": "9a550961",
   "metadata": {},
   "outputs": [
    {
     "data": {
      "image/png": "[encoded data removed]",
      "text/plain": [
       "<Figure size 432x288 with 1 Axes>"
      ]
     },
     "metadata": {
      "needs_background": "light"
     },
     "output_type": "display_data"
    },
    {
     "data": {
      "text/plain": [
       "{'Accuracy': 0.8986331337077605,\n",
       " 'Recall': 0.8909826858271681,\n",
       " 'Precision': 0.860823681305316,\n",
       " 'F1 score': 0.875643575663561,\n",
       " 'AUC': 0.8973639003067564}"
      ]
     },
     "execution_count": 136,
     "metadata": {},
     "output_type": "execute_result"
    }
   ],
   "source": [
    "classification_eva(y_train,pred_train, probs=prob_train_1)"
   ]
  },
  {
   "cell_type": "code",
   "execution_count": 137,
   "id": "5eba1b72",
   "metadata": {},
   "outputs": [
    {
     "data": {
      "image/png": "[encoded data removed]",
      "text/plain": [
       "<Figure size 432x288 with 1 Axes>"
      ]
     },
     "metadata": {
      "needs_background": "light"
     },
     "output_type": "display_data"
    },
    {
     "data": {
      "text/plain": [
       "{'Accuracy': 0.8944739080855069,\n",
       " 'Recall': 0.8846630270220672,\n",
       " 'Precision': 0.8532678437098987,\n",
       " 'F1 score': 0.8686818632309217,\n",
       " 'AUC': 0.892764996321198}"
      ]
     },
     "execution_count": 137,
     "metadata": {},
     "output_type": "execute_result"
    }
   ],
   "source": [
    "classification_eva(y_test,pred_test, probs=prob_test_1)"
   ]
  },
  {
   "cell_type": "markdown",
   "id": "0c1710bb",
   "metadata": {},
   "source": [
    "#### From here we can conclude that the result given by the Random Forest is more stable"
   ]
  },
  {
   "cell_type": "code",
   "execution_count": null,
   "id": "3eac4286",
   "metadata": {},
   "outputs": [],
   "source": []
  }
 ],
 "metadata": {
  "kernelspec": {
   "display_name": "Python 3 (ipykernel)",
   "language": "python",
   "name": "python3"
  },
  "language_info": {
   "codemirror_mode": {
    "name": "ipython",
    "version": 3
   },
   "file_extension": ".py",
   "mimetype": "text/x-python",
   "name": "python",
   "nbconvert_exporter": "python",
   "pygments_lexer": "ipython3",
   "version": "3.9.12"
  }
 },
 "nbformat": 4,
 "nbformat_minor": 5
}
